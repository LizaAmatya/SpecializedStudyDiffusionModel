{
  "cells": [
    {
      "cell_type": "code",
      "execution_count": null,
      "id": "5754ad0d",
      "metadata": {
        "lines_to_next_cell": 2,
        "id": "5754ad0d"
      },
      "outputs": [],
      "source": [
        "import csv\n",
        "import gc\n",
        "import os\n",
        "import deepspeed\n",
        "from matplotlib import pyplot as plt\n",
        "import pandas as pd\n",
        "import torch\n",
        "from diffusers import ControlNetModel, StableDiffusionControlNetPipeline\n",
        "from transformers import CLIPModel\n",
        "from tqdm import tqdm\n",
        "from data import dataloader\n",
        "from diffusion_utils import load_latest_checkpoint, save_checkpoint\n",
        "from torch import nn\n",
        "import torch.nn.functional as F\n",
        "from torch.amp import GradScaler"
      ]
    },
    {
      "cell_type": "code",
      "execution_count": null,
      "id": "3c5c7bb3",
      "metadata": {
        "id": "3c5c7bb3"
      },
      "outputs": [],
      "source": [
        "device = (\n",
        "    torch.device(\"cuda\")\n",
        "    if torch.cuda.is_available()\n",
        "    else torch.device(\"mps\")\n",
        "    if torch.backends.mps.is_available()\n",
        "    else torch.device(\"cpu\")\n",
        ")"
      ]
    },
    {
      "cell_type": "code",
      "execution_count": null,
      "id": "a8027cf4",
      "metadata": {
        "id": "a8027cf4"
      },
      "outputs": [],
      "source": [
        "text_encoder = CLIPModel.from_pretrained(\"openai/clip-vit-base-patch32\", torch_dtype=torch.float32).to(device)\n",
        "model_id = \"lllyasviel/control_v11p_sd15_seg\"\n",
        "controlnet = ControlNetModel.from_pretrained(model_id, torch_dtype=torch.float32)\n",
        "controlnet.to(device)"
      ]
    },
    {
      "cell_type": "markdown",
      "id": "74330693",
      "metadata": {
        "id": "74330693"
      },
      "source": [
        "print('config',controlnet.config)"
      ]
    },
    {
      "cell_type": "code",
      "execution_count": null,
      "id": "9827b6dc",
      "metadata": {
        "id": "9827b6dc"
      },
      "outputs": [],
      "source": [
        "# print('model', controlnet)\n",
        "pipe = StableDiffusionControlNetPipeline.from_pretrained(\n",
        "    \"runwayml/stable-diffusion-v1-5\", controlnet=controlnet, torch_dtype=torch.float16\n",
        ")\n",
        "pipe.to(device)\n",
        "vae = pipe.vae"
      ]
    },
    {
      "cell_type": "code",
      "execution_count": null,
      "id": "5399b2fb",
      "metadata": {
        "id": "5399b2fb"
      },
      "outputs": [],
      "source": [
        "gc.collect()"
      ]
    },
    {
      "cell_type": "code",
      "execution_count": null,
      "id": "455ae7c4",
      "metadata": {
        "id": "455ae7c4"
      },
      "outputs": [],
      "source": [
        "save_dir = \"weights/controlnet/\"\n",
        "os.makedirs(save_dir, exist_ok=True)"
      ]
    },
    {
      "cell_type": "code",
      "execution_count": null,
      "id": "2ebe6d87",
      "metadata": {
        "id": "2ebe6d87"
      },
      "outputs": [],
      "source": [
        "loss_file_path = os.path.join(save_dir, \"loss_val.csv\")\n",
        "if not os.path.exists(loss_file_path):\n",
        "    with open(loss_file_path, mode=\"w\", newline=\"\") as f:\n",
        "        writer = csv.writer(f)\n",
        "        writer.writerow([\"epoch\", \"epoch_loss\"])"
      ]
    },
    {
      "cell_type": "code",
      "execution_count": null,
      "id": "f0882c42",
      "metadata": {
        "id": "f0882c42"
      },
      "outputs": [],
      "source": [
        "# Define optimizer and loss\n",
        "optim = torch.optim.AdamW(\n",
        "    controlnet.parameters(), lr=1e-4, weight_decay=1e-2, betas=(0.9, 0.999)\n",
        ")"
      ]
    },
    {
      "cell_type": "markdown",
      "id": "edd2f8ca",
      "metadata": {
        "lines_to_next_cell": 2,
        "id": "edd2f8ca"
      },
      "source": [
        "deepspeed_config = {\n",
        "    \"optimizer\": optim,\n",
        "    \"zero_optimization\": {\n",
        "        \"stage\": 2,\n",
        "        \"offload_optimizer\": {\n",
        "            \"device\": \"cpu\",\n",
        "        },\n",
        "    },\n",
        "    \"train_batch_size\": 4,\n",
        "    \"gradient_accumulation_steps\": 4,\n",
        "}"
      ]
    },
    {
      "cell_type": "code",
      "execution_count": null,
      "id": "cd3821ec",
      "metadata": {
        "id": "cd3821ec"
      },
      "outputs": [],
      "source": [
        "# criterion = torch.nn.MSELoss()  # For pixel-wise tasks\n",
        "criterion = nn.SmoothL1Loss()       # For better stability - showing Nan loss for MSE -- HuberLoss (SmoothL1: l1 + MSE loss)"
      ]
    },
    {
      "cell_type": "code",
      "execution_count": null,
      "id": "15498fbf",
      "metadata": {
        "id": "15498fbf"
      },
      "outputs": [],
      "source": [
        "nn_model, optim, start_epoch, loss = load_latest_checkpoint(\n",
        "    controlnet, optim, save_dir, device=device\n",
        ")"
      ]
    },
    {
      "cell_type": "markdown",
      "id": "26567e29",
      "metadata": {
        "id": "26567e29"
      },
      "source": [
        "model_engine, optimizer, _, _ = deepspeed.initialize(\n",
        "    config_params=deepspeed_config, model=nn_model, optimizer=optim\n",
        ")"
      ]
    },
    {
      "cell_type": "code",
      "execution_count": null,
      "id": "91aa885c",
      "metadata": {
        "id": "91aa885c"
      },
      "outputs": [],
      "source": [
        "# Training loop\n",
        "controlnet.train()\n",
        "num_epochs = 32\n",
        "timesteps = 500"
      ]
    },
    {
      "cell_type": "code",
      "execution_count": null,
      "id": "dde382f0",
      "metadata": {
        "lines_to_next_cell": 1,
        "id": "dde382f0"
      },
      "outputs": [],
      "source": [
        "scaler = GradScaler(\"cuda\")\n",
        "torch.cuda.empty_cache()\n",
        "gc.collect()"
      ]
    },
    {
      "cell_type": "code",
      "execution_count": null,
      "id": "c28114c5",
      "metadata": {
        "lines_to_next_cell": 1,
        "id": "c28114c5"
      },
      "outputs": [],
      "source": [
        "def initialize_weights(model):\n",
        "    for m in model.modules():\n",
        "        if isinstance(m, nn.Conv2d) or isinstance(m, nn.ConvTranspose2d):\n",
        "            nn.init.kaiming_normal_(m.weight, mode=\"fan_in\", nonlinearity=\"relu\")\n",
        "            if m.bias is not None:\n",
        "                nn.init.constant_(m.bias, 0)\n",
        "        elif isinstance(m, nn.BatchNorm2d):\n",
        "            nn.init.constant_(m.weight, 1)\n",
        "            nn.init.constant_(m.bias, 0)"
      ]
    },
    {
      "cell_type": "code",
      "execution_count": null,
      "id": "d77c7a22",
      "metadata": {
        "id": "d77c7a22"
      },
      "outputs": [],
      "source": [
        "def train_model(nn_model, data_loader, start_epoch, n_epoch):\n",
        "    upsample_block = nn.Sequential(\n",
        "        # Upsample from [4, 1280, 4, 4] to [4, 1280, 256, 256] using F.interpolate\n",
        "        nn.Conv2d(\n",
        "            1280, 640, kernel_size=3, padding=1, stride=1\n",
        "        ),  # Reduce channels from 1280 to 640\n",
        "        nn.BatchNorm2d(640),\n",
        "        nn.ReLU(),\n",
        "        # Depthwise separable convolution: reduces channels and memory usage\n",
        "        nn.Conv2d(\n",
        "            640, 320, kernel_size=3, padding=1, stride=1\n",
        "        ) # Reduce channels to 320\n",
        "        # nn.BatchNorm2d(320),\n",
        "        # nn.ReLU(),\n",
        "        # # Final reduction to 3 channels (RGB)\n",
        "        # nn.Conv2d(320, 3, kernel_size=1),\n",
        "    ).to(device).to(dtype=torch.float32)\n",
        "    initialize_weights(upsample_block)\n",
        "\n",
        "    for name, param in controlnet.named_parameters():\n",
        "        if \"mid_block\" in name:\n",
        "            param.requires_grad = True\n",
        "        else:\n",
        "            param.requires_grad = False\n",
        "\n",
        "    for name, module in nn_model.named_modules():\n",
        "        if 'mid_block' in name:\n",
        "            print(f\"Layer name: {name}, Layer type: {type(module)}\")\n",
        "            module.requires_grad = True  # Fine-tune higher layers\n",
        "        else:\n",
        "            module.requires_grad = False  # Freeze other layers\n",
        "\n",
        "    for ep in range(start_epoch, num_epochs):\n",
        "        epoch_loss = 0.0\n",
        "        accumulation_steps = 4\n",
        "\n",
        "        pbar = tqdm(data_loader, mininterval=2)\n",
        "        for i, batch in enumerate(pbar):\n",
        "            optim.zero_grad(set_to_none=True)\n",
        "            images, masks, text_emb = batch\n",
        "            print(\"masks shape---before\", masks.shape)\n",
        "\n",
        "            masks = masks.repeat(1, 3, 1, 1)    # 1 channel to 3 channel conversion\n",
        "            print('images shaepe', images.shape)\n",
        "            print('masks shape---after', masks.shape)\n",
        "            print('text emb shapessss-------', text_emb.shape)\n",
        "            images, masks, text_emb = (\n",
        "                images.to(device).to(dtype=torch.float32),\n",
        "                masks.to(device).to(dtype=torch.float32),\n",
        "                text_emb.to(device).to(dtype=torch.float32),\n",
        "            )\n",
        "            with torch.autocast(device_type='cuda'):\n",
        "                text_emb_resized = nn.Linear(512, 768).to(device)(\n",
        "                    text_emb\n",
        "                )  # Resize to match 768 features\n",
        "                t = torch.randint(1, timesteps + 1, (images.shape[0],)).to(device)\n",
        "\n",
        "                latents = vae.encode(images).latent_dist.sample().to(device)\n",
        "\n",
        "                # Forward pass\n",
        "                out_model = nn_model(\n",
        "                    sample=latents,\n",
        "                    timestep=t,\n",
        "                    encoder_hidden_states=text_emb_resized,\n",
        "                    controlnet_cond=masks,  # Segmentation masks as conditioning\n",
        "                )\n",
        "                # print(\"training after\", dir(out_model), type(out_model))\n",
        "                # print(out_model.down_block_res_samples[0].shape)  # Check if this contains the image\n",
        "                # print(out_model.mid_block_res_sample.shape)\n",
        "                generated_image = out_model.mid_block_res_sample\n",
        "                # generated_image = F.interpolate(input=generated_image.detach(), size=(256, 256), mode='bilinear', align_corners=False)\n",
        "\n",
        "                generated_image = upsample_block(generated_image)\n",
        "                generated_image_resized = F.interpolate(\n",
        "                    generated_image,\n",
        "                    size=(256, 256),\n",
        "                    mode=\"bilinear\",\n",
        "                    align_corners=False,\n",
        "                )\n",
        "                print(\"gen image------\", generated_image_resized.shape)\n",
        "                print('image orig', images.shape)\n",
        "                loss = criterion(generated_image_resized, images)   # F.mse_loss\n",
        "                print(f\"Epoch {ep+1}/{num_epochs}, Loss: {loss.item()}\")\n",
        "\n",
        "            epoch_loss += loss.item()\n",
        "            # model_engine.backward(loss)\n",
        "            # model_engine.step()\n",
        "            scaler.scale(loss).backward()\n",
        "            # loss.backward()\n",
        "\n",
        "            if (i + 1) % accumulation_steps == 0 or i == len(pbar):\n",
        "                scaler.unscale_(optim)\n",
        "                torch.nn.utils.clip_grad_norm_(upsample_block.parameters(), max_norm=1.0)\n",
        "                # optim.step()\n",
        "                scaler.step(optim)\n",
        "                scaler.update()\n",
        "                optim.zero_grad(set_to_none=True)\n",
        "\n",
        "            del (\n",
        "                images,\n",
        "                masks,\n",
        "                text_emb,\n",
        "                loss,\n",
        "                t,\n",
        "                generated_image,\n",
        "                generated_image_resized,\n",
        "            )\n",
        "            torch.cuda.empty_cache()\n",
        "\n",
        "        # Calculate and log average loss for the epoch\n",
        "        avg_loss = epoch_loss / len(dataloader)\n",
        "\n",
        "        with open(loss_file_path, mode=\"a\", newline=\"\") as f:\n",
        "            writer = csv.writer(f)\n",
        "            writer.writerow([ep + 1, avg_loss])\n",
        "\n",
        "        if ep % 4 == 0 or ep == int(n_epoch - 1):\n",
        "            save_checkpoint(nn_model, optim, ep, epoch_loss, save_dir)\n",
        "            print(\"saved model at \" + save_dir + f\"model_{ep}.pth\")\n",
        "\n",
        "    # Plot losses\n",
        "    data = pd.read_csv(loss_file_path)\n",
        "    plt.figure(figsize=(8, 6))\n",
        "    plt.plot(\n",
        "        data[\"epoch\"],\n",
        "        data[\"epoch_loss\"],\n",
        "        marker=\"o\",\n",
        "        linestyle=\"-\",\n",
        "        color=\"b\",\n",
        "        label=\"Training Loss\",\n",
        "    )\n",
        "    plt.title(\"Training Loss Over Epochs\")\n",
        "    plt.xlabel(\"Epoch\")\n",
        "    plt.ylabel(\"Loss\")\n",
        "    plt.legend()\n",
        "    plt.show()"
      ]
    },
    {
      "cell_type": "code",
      "execution_count": null,
      "id": "a716d460",
      "metadata": {
        "id": "a716d460"
      },
      "outputs": [],
      "source": [
        "def main():\n",
        "    train_model(nn_model=nn_model, data_loader=dataloader, start_epoch=start_epoch, n_epoch=num_epochs)"
      ]
    },
    {
      "cell_type": "code",
      "execution_count": null,
      "id": "f9842e55",
      "metadata": {
        "id": "f9842e55"
      },
      "outputs": [],
      "source": [
        "if __name__ == \"__main__\":\n",
        "    main()"
      ]
    }
  ],
  "metadata": {
    "jupytext": {
      "cell_metadata_filter": "-all",
      "main_language": "python",
      "notebook_metadata_filter": "-all"
    },
    "colab": {
      "provenance": []
    }
  },
  "nbformat": 4,
  "nbformat_minor": 5
}