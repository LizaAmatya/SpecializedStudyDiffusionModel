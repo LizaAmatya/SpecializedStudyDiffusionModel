{
  "cells": [
    {
      "cell_type": "code",
      "source": [
        "from google.colab import files\n",
        "uploaded = files.upload()"
      ],
      "metadata": {
        "id": "wiUkg1JMWls5",
        "outputId": "f335fcb3-a3b4-444b-c612-b89aded8c4bf",
        "colab": {
          "base_uri": "https://localhost:8080/",
          "height": 109
        }
      },
      "id": "wiUkg1JMWls5",
      "execution_count": 1,
      "outputs": [
        {
          "output_type": "display_data",
          "data": {
            "text/plain": [
              "<IPython.core.display.HTML object>"
            ],
            "text/html": [
              "\n",
              "     <input type=\"file\" id=\"files-e3063ab5-dfa7-41b6-8787-8da660a599a8\" name=\"files[]\" multiple disabled\n",
              "        style=\"border:none\" />\n",
              "     <output id=\"result-e3063ab5-dfa7-41b6-8787-8da660a599a8\">\n",
              "      Upload widget is only available when the cell has been executed in the\n",
              "      current browser session. Please rerun this cell to enable.\n",
              "      </output>\n",
              "      <script>// Copyright 2017 Google LLC\n",
              "//\n",
              "// Licensed under the Apache License, Version 2.0 (the \"License\");\n",
              "// you may not use this file except in compliance with the License.\n",
              "// You may obtain a copy of the License at\n",
              "//\n",
              "//      http://www.apache.org/licenses/LICENSE-2.0\n",
              "//\n",
              "// Unless required by applicable law or agreed to in writing, software\n",
              "// distributed under the License is distributed on an \"AS IS\" BASIS,\n",
              "// WITHOUT WARRANTIES OR CONDITIONS OF ANY KIND, either express or implied.\n",
              "// See the License for the specific language governing permissions and\n",
              "// limitations under the License.\n",
              "\n",
              "/**\n",
              " * @fileoverview Helpers for google.colab Python module.\n",
              " */\n",
              "(function(scope) {\n",
              "function span(text, styleAttributes = {}) {\n",
              "  const element = document.createElement('span');\n",
              "  element.textContent = text;\n",
              "  for (const key of Object.keys(styleAttributes)) {\n",
              "    element.style[key] = styleAttributes[key];\n",
              "  }\n",
              "  return element;\n",
              "}\n",
              "\n",
              "// Max number of bytes which will be uploaded at a time.\n",
              "const MAX_PAYLOAD_SIZE = 100 * 1024;\n",
              "\n",
              "function _uploadFiles(inputId, outputId) {\n",
              "  const steps = uploadFilesStep(inputId, outputId);\n",
              "  const outputElement = document.getElementById(outputId);\n",
              "  // Cache steps on the outputElement to make it available for the next call\n",
              "  // to uploadFilesContinue from Python.\n",
              "  outputElement.steps = steps;\n",
              "\n",
              "  return _uploadFilesContinue(outputId);\n",
              "}\n",
              "\n",
              "// This is roughly an async generator (not supported in the browser yet),\n",
              "// where there are multiple asynchronous steps and the Python side is going\n",
              "// to poll for completion of each step.\n",
              "// This uses a Promise to block the python side on completion of each step,\n",
              "// then passes the result of the previous step as the input to the next step.\n",
              "function _uploadFilesContinue(outputId) {\n",
              "  const outputElement = document.getElementById(outputId);\n",
              "  const steps = outputElement.steps;\n",
              "\n",
              "  const next = steps.next(outputElement.lastPromiseValue);\n",
              "  return Promise.resolve(next.value.promise).then((value) => {\n",
              "    // Cache the last promise value to make it available to the next\n",
              "    // step of the generator.\n",
              "    outputElement.lastPromiseValue = value;\n",
              "    return next.value.response;\n",
              "  });\n",
              "}\n",
              "\n",
              "/**\n",
              " * Generator function which is called between each async step of the upload\n",
              " * process.\n",
              " * @param {string} inputId Element ID of the input file picker element.\n",
              " * @param {string} outputId Element ID of the output display.\n",
              " * @return {!Iterable<!Object>} Iterable of next steps.\n",
              " */\n",
              "function* uploadFilesStep(inputId, outputId) {\n",
              "  const inputElement = document.getElementById(inputId);\n",
              "  inputElement.disabled = false;\n",
              "\n",
              "  const outputElement = document.getElementById(outputId);\n",
              "  outputElement.innerHTML = '';\n",
              "\n",
              "  const pickedPromise = new Promise((resolve) => {\n",
              "    inputElement.addEventListener('change', (e) => {\n",
              "      resolve(e.target.files);\n",
              "    });\n",
              "  });\n",
              "\n",
              "  const cancel = document.createElement('button');\n",
              "  inputElement.parentElement.appendChild(cancel);\n",
              "  cancel.textContent = 'Cancel upload';\n",
              "  const cancelPromise = new Promise((resolve) => {\n",
              "    cancel.onclick = () => {\n",
              "      resolve(null);\n",
              "    };\n",
              "  });\n",
              "\n",
              "  // Wait for the user to pick the files.\n",
              "  const files = yield {\n",
              "    promise: Promise.race([pickedPromise, cancelPromise]),\n",
              "    response: {\n",
              "      action: 'starting',\n",
              "    }\n",
              "  };\n",
              "\n",
              "  cancel.remove();\n",
              "\n",
              "  // Disable the input element since further picks are not allowed.\n",
              "  inputElement.disabled = true;\n",
              "\n",
              "  if (!files) {\n",
              "    return {\n",
              "      response: {\n",
              "        action: 'complete',\n",
              "      }\n",
              "    };\n",
              "  }\n",
              "\n",
              "  for (const file of files) {\n",
              "    const li = document.createElement('li');\n",
              "    li.append(span(file.name, {fontWeight: 'bold'}));\n",
              "    li.append(span(\n",
              "        `(${file.type || 'n/a'}) - ${file.size} bytes, ` +\n",
              "        `last modified: ${\n",
              "            file.lastModifiedDate ? file.lastModifiedDate.toLocaleDateString() :\n",
              "                                    'n/a'} - `));\n",
              "    const percent = span('0% done');\n",
              "    li.appendChild(percent);\n",
              "\n",
              "    outputElement.appendChild(li);\n",
              "\n",
              "    const fileDataPromise = new Promise((resolve) => {\n",
              "      const reader = new FileReader();\n",
              "      reader.onload = (e) => {\n",
              "        resolve(e.target.result);\n",
              "      };\n",
              "      reader.readAsArrayBuffer(file);\n",
              "    });\n",
              "    // Wait for the data to be ready.\n",
              "    let fileData = yield {\n",
              "      promise: fileDataPromise,\n",
              "      response: {\n",
              "        action: 'continue',\n",
              "      }\n",
              "    };\n",
              "\n",
              "    // Use a chunked sending to avoid message size limits. See b/62115660.\n",
              "    let position = 0;\n",
              "    do {\n",
              "      const length = Math.min(fileData.byteLength - position, MAX_PAYLOAD_SIZE);\n",
              "      const chunk = new Uint8Array(fileData, position, length);\n",
              "      position += length;\n",
              "\n",
              "      const base64 = btoa(String.fromCharCode.apply(null, chunk));\n",
              "      yield {\n",
              "        response: {\n",
              "          action: 'append',\n",
              "          file: file.name,\n",
              "          data: base64,\n",
              "        },\n",
              "      };\n",
              "\n",
              "      let percentDone = fileData.byteLength === 0 ?\n",
              "          100 :\n",
              "          Math.round((position / fileData.byteLength) * 100);\n",
              "      percent.textContent = `${percentDone}% done`;\n",
              "\n",
              "    } while (position < fileData.byteLength);\n",
              "  }\n",
              "\n",
              "  // All done.\n",
              "  yield {\n",
              "    response: {\n",
              "      action: 'complete',\n",
              "    }\n",
              "  };\n",
              "}\n",
              "\n",
              "scope.google = scope.google || {};\n",
              "scope.google.colab = scope.google.colab || {};\n",
              "scope.google.colab._files = {\n",
              "  _uploadFiles,\n",
              "  _uploadFilesContinue,\n",
              "};\n",
              "})(self);\n",
              "</script> "
            ]
          },
          "metadata": {}
        },
        {
          "output_type": "stream",
          "name": "stdout",
          "text": [
            "Saving data.py to data.py\n",
            "Saving diffusion_utils.py to diffusion_utils.py\n"
          ]
        }
      ]
    },
    {
      "cell_type": "code",
      "execution_count": 2,
      "id": "5754ad0d",
      "metadata": {
        "lines_to_next_cell": 2,
        "id": "5754ad0d",
        "outputId": "3872386b-4af0-4b1c-e583-7e0505382d65",
        "colab": {
          "base_uri": "https://localhost:8080/",
          "height": 393
        }
      },
      "outputs": [
        {
          "output_type": "error",
          "ename": "ModuleNotFoundError",
          "evalue": "No module named 'deepspeed'",
          "traceback": [
            "\u001b[0;31m---------------------------------------------------------------------------\u001b[0m",
            "\u001b[0;31mModuleNotFoundError\u001b[0m                       Traceback (most recent call last)",
            "\u001b[0;32m<ipython-input-2-04007440681a>\u001b[0m in \u001b[0;36m<cell line: 4>\u001b[0;34m()\u001b[0m\n\u001b[1;32m      2\u001b[0m \u001b[0;32mimport\u001b[0m \u001b[0mgc\u001b[0m\u001b[0;34m\u001b[0m\u001b[0;34m\u001b[0m\u001b[0m\n\u001b[1;32m      3\u001b[0m \u001b[0;32mimport\u001b[0m \u001b[0mos\u001b[0m\u001b[0;34m\u001b[0m\u001b[0;34m\u001b[0m\u001b[0m\n\u001b[0;32m----> 4\u001b[0;31m \u001b[0;32mimport\u001b[0m \u001b[0mdeepspeed\u001b[0m\u001b[0;34m\u001b[0m\u001b[0;34m\u001b[0m\u001b[0m\n\u001b[0m\u001b[1;32m      5\u001b[0m \u001b[0;32mfrom\u001b[0m \u001b[0mmatplotlib\u001b[0m \u001b[0;32mimport\u001b[0m \u001b[0mpyplot\u001b[0m \u001b[0;32mas\u001b[0m \u001b[0mplt\u001b[0m\u001b[0;34m\u001b[0m\u001b[0;34m\u001b[0m\u001b[0m\n\u001b[1;32m      6\u001b[0m \u001b[0;32mimport\u001b[0m \u001b[0mpandas\u001b[0m \u001b[0;32mas\u001b[0m \u001b[0mpd\u001b[0m\u001b[0;34m\u001b[0m\u001b[0;34m\u001b[0m\u001b[0m\n",
            "\u001b[0;31mModuleNotFoundError\u001b[0m: No module named 'deepspeed'",
            "",
            "\u001b[0;31m---------------------------------------------------------------------------\u001b[0;32m\nNOTE: If your import is failing due to a missing package, you can\nmanually install dependencies using either !pip or !apt.\n\nTo view examples of installing some common dependencies, click the\n\"Open Examples\" button below.\n\u001b[0;31m---------------------------------------------------------------------------\u001b[0m\n"
          ],
          "errorDetails": {
            "actions": [
              {
                "action": "open_url",
                "actionText": "Open Examples",
                "url": "/notebooks/snippets/importing_libraries.ipynb"
              }
            ]
          }
        }
      ],
      "source": [
        "import csv\n",
        "import gc\n",
        "import os\n",
        "from matplotlib import pyplot as plt\n",
        "import pandas as pd\n",
        "import torch\n",
        "from diffusers import ControlNetModel, StableDiffusionControlNetPipeline\n",
        "from transformers import CLIPModel\n",
        "from tqdm import tqdm\n",
        "from data import dataloader\n",
        "from diffusion_utils import load_latest_checkpoint, save_checkpoint\n",
        "from torch import nn\n",
        "import torch.nn.functional as F\n",
        "from torch.amp import GradScaler"
      ]
    },
    {
      "cell_type": "code",
      "execution_count": null,
      "id": "3c5c7bb3",
      "metadata": {
        "id": "3c5c7bb3"
      },
      "outputs": [],
      "source": [
        "device = (\n",
        "    torch.device(\"cuda\")\n",
        "    if torch.cuda.is_available()\n",
        "    else torch.device(\"mps\")\n",
        "    if torch.backends.mps.is_available()\n",
        "    else torch.device(\"cpu\")\n",
        ")"
      ]
    },
    {
      "cell_type": "code",
      "execution_count": null,
      "id": "a8027cf4",
      "metadata": {
        "id": "a8027cf4"
      },
      "outputs": [],
      "source": [
        "text_encoder = CLIPModel.from_pretrained(\"openai/clip-vit-base-patch32\", torch_dtype=torch.float32).to(device)\n",
        "model_id = \"lllyasviel/control_v11p_sd15_seg\"\n",
        "controlnet = ControlNetModel.from_pretrained(model_id, torch_dtype=torch.float32)\n",
        "controlnet.to(device)"
      ]
    },
    {
      "cell_type": "markdown",
      "id": "74330693",
      "metadata": {
        "id": "74330693"
      },
      "source": [
        "print('config',controlnet.config)"
      ]
    },
    {
      "cell_type": "code",
      "execution_count": null,
      "id": "9827b6dc",
      "metadata": {
        "id": "9827b6dc"
      },
      "outputs": [],
      "source": [
        "# print('model', controlnet)\n",
        "pipe = StableDiffusionControlNetPipeline.from_pretrained(\n",
        "    \"runwayml/stable-diffusion-v1-5\", controlnet=controlnet, torch_dtype=torch.float16\n",
        ")\n",
        "pipe.to(device)\n",
        "vae = pipe.vae"
      ]
    },
    {
      "cell_type": "code",
      "execution_count": null,
      "id": "5399b2fb",
      "metadata": {
        "id": "5399b2fb"
      },
      "outputs": [],
      "source": [
        "gc.collect()"
      ]
    },
    {
      "cell_type": "code",
      "execution_count": null,
      "id": "455ae7c4",
      "metadata": {
        "id": "455ae7c4"
      },
      "outputs": [],
      "source": [
        "save_dir = \"weights/controlnet/\"\n",
        "os.makedirs(save_dir, exist_ok=True)"
      ]
    },
    {
      "cell_type": "code",
      "execution_count": null,
      "id": "2ebe6d87",
      "metadata": {
        "id": "2ebe6d87"
      },
      "outputs": [],
      "source": [
        "loss_file_path = os.path.join(save_dir, \"loss_val.csv\")\n",
        "if not os.path.exists(loss_file_path):\n",
        "    with open(loss_file_path, mode=\"w\", newline=\"\") as f:\n",
        "        writer = csv.writer(f)\n",
        "        writer.writerow([\"epoch\", \"epoch_loss\"])"
      ]
    },
    {
      "cell_type": "code",
      "execution_count": null,
      "id": "f0882c42",
      "metadata": {
        "id": "f0882c42"
      },
      "outputs": [],
      "source": [
        "# Define optimizer and loss\n",
        "optim = torch.optim.AdamW(\n",
        "    controlnet.parameters(), lr=1e-4, weight_decay=1e-2, betas=(0.9, 0.999)\n",
        ")"
      ]
    },
    {
      "cell_type": "code",
      "execution_count": null,
      "id": "cd3821ec",
      "metadata": {
        "id": "cd3821ec"
      },
      "outputs": [],
      "source": [
        "# criterion = torch.nn.MSELoss()  # For pixel-wise tasks\n",
        "criterion = nn.SmoothL1Loss()       # For better stability - showing Nan loss for MSE -- HuberLoss (SmoothL1: l1 + MSE loss)"
      ]
    },
    {
      "cell_type": "code",
      "execution_count": null,
      "id": "15498fbf",
      "metadata": {
        "id": "15498fbf"
      },
      "outputs": [],
      "source": [
        "nn_model, optim, start_epoch, loss = load_latest_checkpoint(\n",
        "    controlnet, optim, save_dir, device=device\n",
        ")"
      ]
    },
    {
      "cell_type": "code",
      "execution_count": null,
      "id": "91aa885c",
      "metadata": {
        "id": "91aa885c"
      },
      "outputs": [],
      "source": [
        "# Training loop\n",
        "controlnet.train()\n",
        "num_epochs = 32\n",
        "timesteps = 500"
      ]
    },
    {
      "cell_type": "code",
      "execution_count": null,
      "id": "dde382f0",
      "metadata": {
        "lines_to_next_cell": 1,
        "id": "dde382f0"
      },
      "outputs": [],
      "source": [
        "scaler = GradScaler(\"cuda\")\n",
        "torch.cuda.empty_cache()\n",
        "gc.collect()"
      ]
    },
    {
      "cell_type": "code",
      "execution_count": null,
      "id": "c28114c5",
      "metadata": {
        "lines_to_next_cell": 1,
        "id": "c28114c5"
      },
      "outputs": [],
      "source": [
        "def initialize_weights(model):\n",
        "    for m in model.modules():\n",
        "        if isinstance(m, nn.Conv2d) or isinstance(m, nn.ConvTranspose2d):\n",
        "            nn.init.kaiming_normal_(m.weight, mode=\"fan_in\", nonlinearity=\"relu\")\n",
        "            if m.bias is not None:\n",
        "                nn.init.constant_(m.bias, 0)\n",
        "        elif isinstance(m, nn.BatchNorm2d):\n",
        "            nn.init.constant_(m.weight, 1)\n",
        "            nn.init.constant_(m.bias, 0)"
      ]
    },
    {
      "cell_type": "code",
      "execution_count": null,
      "id": "d77c7a22",
      "metadata": {
        "id": "d77c7a22"
      },
      "outputs": [],
      "source": [
        "def train_model(nn_model, data_loader, start_epoch, n_epoch):\n",
        "    upsample_block = nn.Sequential(\n",
        "        # Upsample from [4, 1280, 4, 4] to [4, 1280, 256, 256] using F.interpolate\n",
        "        nn.Conv2d(\n",
        "            1280, 640, kernel_size=3, padding=1, stride=1\n",
        "        ),  # Reduce channels from 1280 to 640\n",
        "        nn.BatchNorm2d(640),\n",
        "        nn.ReLU(),\n",
        "        # Depthwise separable convolution: reduces channels and memory usage\n",
        "        nn.Conv2d(\n",
        "            640, 320, kernel_size=3, padding=1, stride=1\n",
        "        ) # Reduce channels to 320\n",
        "        # nn.BatchNorm2d(320),\n",
        "        # nn.ReLU(),\n",
        "        # # Final reduction to 3 channels (RGB)\n",
        "        # nn.Conv2d(320, 3, kernel_size=1),\n",
        "    ).to(device).to(dtype=torch.float32)\n",
        "    initialize_weights(upsample_block)\n",
        "\n",
        "    for name, param in controlnet.named_parameters():\n",
        "        if \"mid_block\" in name:\n",
        "            param.requires_grad = True\n",
        "        else:\n",
        "            param.requires_grad = False\n",
        "\n",
        "    for name, module in nn_model.named_modules():\n",
        "        if 'mid_block' in name:\n",
        "            print(f\"Layer name: {name}, Layer type: {type(module)}\")\n",
        "            module.requires_grad = True  # Fine-tune higher layers\n",
        "        else:\n",
        "            module.requires_grad = False  # Freeze other layers\n",
        "\n",
        "    for ep in range(start_epoch, num_epochs):\n",
        "        epoch_loss = 0.0\n",
        "        accumulation_steps = 4\n",
        "\n",
        "        pbar = tqdm(data_loader, mininterval=2)\n",
        "        for i, batch in enumerate(pbar):\n",
        "            optim.zero_grad(set_to_none=True)\n",
        "            images, masks, text_emb = batch\n",
        "            print(\"masks shape---before\", masks.shape)\n",
        "\n",
        "            masks = masks.repeat(1, 3, 1, 1)    # 1 channel to 3 channel conversion\n",
        "            print('images shaepe', images.shape)\n",
        "            print('masks shape---after', masks.shape)\n",
        "            print('text emb shapessss-------', text_emb.shape)\n",
        "            images, masks, text_emb = (\n",
        "                images.to(device).to(dtype=torch.float32),\n",
        "                masks.to(device).to(dtype=torch.float32),\n",
        "                text_emb.to(device).to(dtype=torch.float32),\n",
        "            )\n",
        "            with torch.autocast(device_type='cuda'):\n",
        "                text_emb_resized = nn.Linear(512, 768).to(device)(\n",
        "                    text_emb\n",
        "                )  # Resize to match 768 features\n",
        "                t = torch.randint(1, timesteps + 1, (images.shape[0],)).to(device)\n",
        "\n",
        "                latents = vae.encode(images).latent_dist.sample().to(device)\n",
        "\n",
        "                # Forward pass\n",
        "                out_model = nn_model(\n",
        "                    sample=latents,\n",
        "                    timestep=t,\n",
        "                    encoder_hidden_states=text_emb_resized,\n",
        "                    controlnet_cond=masks,  # Segmentation masks as conditioning\n",
        "                )\n",
        "                # print(\"training after\", dir(out_model), type(out_model))\n",
        "                # print(out_model.down_block_res_samples[0].shape)  # Check if this contains the image\n",
        "                # print(out_model.mid_block_res_sample.shape)\n",
        "                generated_image = out_model.mid_block_res_sample\n",
        "                # generated_image = F.interpolate(input=generated_image.detach(), size=(256, 256), mode='bilinear', align_corners=False)\n",
        "\n",
        "                generated_image = upsample_block(generated_image)\n",
        "                generated_image_resized = F.interpolate(\n",
        "                    generated_image,\n",
        "                    size=(256, 256),\n",
        "                    mode=\"bilinear\",\n",
        "                    align_corners=False,\n",
        "                )\n",
        "                print(\"gen image------\", generated_image_resized.shape)\n",
        "                print('image orig', images.shape)\n",
        "                loss = criterion(generated_image_resized, images)   # F.mse_loss\n",
        "                print(f\"Epoch {ep+1}/{num_epochs}, Loss: {loss.item()}\")\n",
        "\n",
        "            epoch_loss += loss.item()\n",
        "            # model_engine.backward(loss)\n",
        "            # model_engine.step()\n",
        "            scaler.scale(loss).backward()\n",
        "            # loss.backward()\n",
        "\n",
        "            if (i + 1) % accumulation_steps == 0 or i == len(pbar):\n",
        "                scaler.unscale_(optim)\n",
        "                torch.nn.utils.clip_grad_norm_(upsample_block.parameters(), max_norm=1.0)\n",
        "                # optim.step()\n",
        "                scaler.step(optim)\n",
        "                scaler.update()\n",
        "                optim.zero_grad(set_to_none=True)\n",
        "\n",
        "            del (\n",
        "                images,\n",
        "                masks,\n",
        "                text_emb,\n",
        "                loss,\n",
        "                t,\n",
        "                generated_image,\n",
        "                generated_image_resized,\n",
        "            )\n",
        "            torch.cuda.empty_cache()\n",
        "\n",
        "        # Calculate and log average loss for the epoch\n",
        "        avg_loss = epoch_loss / len(dataloader)\n",
        "\n",
        "        with open(loss_file_path, mode=\"a\", newline=\"\") as f:\n",
        "            writer = csv.writer(f)\n",
        "            writer.writerow([ep + 1, avg_loss])\n",
        "\n",
        "        if ep % 4 == 0 or ep == int(n_epoch - 1):\n",
        "            save_checkpoint(nn_model, optim, ep, epoch_loss, save_dir)\n",
        "            print(\"saved model at \" + save_dir + f\"model_{ep}.pth\")\n",
        "\n",
        "    # Plot losses\n",
        "    data = pd.read_csv(loss_file_path)\n",
        "    plt.figure(figsize=(8, 6))\n",
        "    plt.plot(\n",
        "        data[\"epoch\"],\n",
        "        data[\"epoch_loss\"],\n",
        "        marker=\"o\",\n",
        "        linestyle=\"-\",\n",
        "        color=\"b\",\n",
        "        label=\"Training Loss\",\n",
        "    )\n",
        "    plt.title(\"Training Loss Over Epochs\")\n",
        "    plt.xlabel(\"Epoch\")\n",
        "    plt.ylabel(\"Loss\")\n",
        "    plt.legend()\n",
        "    plt.show()"
      ]
    },
    {
      "cell_type": "code",
      "execution_count": null,
      "id": "a716d460",
      "metadata": {
        "id": "a716d460"
      },
      "outputs": [],
      "source": [
        "def main():\n",
        "    train_model(nn_model=nn_model, data_loader=dataloader, start_epoch=start_epoch, n_epoch=num_epochs)"
      ]
    },
    {
      "cell_type": "code",
      "execution_count": null,
      "id": "f9842e55",
      "metadata": {
        "id": "f9842e55"
      },
      "outputs": [],
      "source": [
        "if __name__ == \"__main__\":\n",
        "    main()"
      ]
    }
  ],
  "metadata": {
    "jupytext": {
      "cell_metadata_filter": "-all",
      "main_language": "python",
      "notebook_metadata_filter": "-all"
    },
    "colab": {
      "provenance": [],
      "gpuType": "T4"
    },
    "language_info": {
      "name": "python"
    },
    "kernelspec": {
      "name": "python3",
      "display_name": "Python 3"
    },
    "accelerator": "GPU"
  },
  "nbformat": 4,
  "nbformat_minor": 5
}