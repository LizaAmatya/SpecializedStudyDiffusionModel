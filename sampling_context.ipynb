{
  "cells": [
    {
      "cell_type": "code",
      "source": [
        "from google.colab import files\n",
        "uploaded = files.upload()"
      ],
      "metadata": {
        "colab": {
          "base_uri": "https://localhost:8080/",
          "height": 74
        },
        "id": "sBDPckYGp2Ja",
        "outputId": "55a2f130-858e-483b-f36e-e601154cc36a"
      },
      "id": "sBDPckYGp2Ja",
      "execution_count": 5,
      "outputs": [
        {
          "output_type": "display_data",
          "data": {
            "text/plain": [
              "<IPython.core.display.HTML object>"
            ],
            "text/html": [
              "\n",
              "     <input type=\"file\" id=\"files-77c98acf-d1fa-4951-bcee-8c8c12a8da22\" name=\"files[]\" multiple disabled\n",
              "        style=\"border:none\" />\n",
              "     <output id=\"result-77c98acf-d1fa-4951-bcee-8c8c12a8da22\">\n",
              "      Upload widget is only available when the cell has been executed in the\n",
              "      current browser session. Please rerun this cell to enable.\n",
              "      </output>\n",
              "      <script>// Copyright 2017 Google LLC\n",
              "//\n",
              "// Licensed under the Apache License, Version 2.0 (the \"License\");\n",
              "// you may not use this file except in compliance with the License.\n",
              "// You may obtain a copy of the License at\n",
              "//\n",
              "//      http://www.apache.org/licenses/LICENSE-2.0\n",
              "//\n",
              "// Unless required by applicable law or agreed to in writing, software\n",
              "// distributed under the License is distributed on an \"AS IS\" BASIS,\n",
              "// WITHOUT WARRANTIES OR CONDITIONS OF ANY KIND, either express or implied.\n",
              "// See the License for the specific language governing permissions and\n",
              "// limitations under the License.\n",
              "\n",
              "/**\n",
              " * @fileoverview Helpers for google.colab Python module.\n",
              " */\n",
              "(function(scope) {\n",
              "function span(text, styleAttributes = {}) {\n",
              "  const element = document.createElement('span');\n",
              "  element.textContent = text;\n",
              "  for (const key of Object.keys(styleAttributes)) {\n",
              "    element.style[key] = styleAttributes[key];\n",
              "  }\n",
              "  return element;\n",
              "}\n",
              "\n",
              "// Max number of bytes which will be uploaded at a time.\n",
              "const MAX_PAYLOAD_SIZE = 100 * 1024;\n",
              "\n",
              "function _uploadFiles(inputId, outputId) {\n",
              "  const steps = uploadFilesStep(inputId, outputId);\n",
              "  const outputElement = document.getElementById(outputId);\n",
              "  // Cache steps on the outputElement to make it available for the next call\n",
              "  // to uploadFilesContinue from Python.\n",
              "  outputElement.steps = steps;\n",
              "\n",
              "  return _uploadFilesContinue(outputId);\n",
              "}\n",
              "\n",
              "// This is roughly an async generator (not supported in the browser yet),\n",
              "// where there are multiple asynchronous steps and the Python side is going\n",
              "// to poll for completion of each step.\n",
              "// This uses a Promise to block the python side on completion of each step,\n",
              "// then passes the result of the previous step as the input to the next step.\n",
              "function _uploadFilesContinue(outputId) {\n",
              "  const outputElement = document.getElementById(outputId);\n",
              "  const steps = outputElement.steps;\n",
              "\n",
              "  const next = steps.next(outputElement.lastPromiseValue);\n",
              "  return Promise.resolve(next.value.promise).then((value) => {\n",
              "    // Cache the last promise value to make it available to the next\n",
              "    // step of the generator.\n",
              "    outputElement.lastPromiseValue = value;\n",
              "    return next.value.response;\n",
              "  });\n",
              "}\n",
              "\n",
              "/**\n",
              " * Generator function which is called between each async step of the upload\n",
              " * process.\n",
              " * @param {string} inputId Element ID of the input file picker element.\n",
              " * @param {string} outputId Element ID of the output display.\n",
              " * @return {!Iterable<!Object>} Iterable of next steps.\n",
              " */\n",
              "function* uploadFilesStep(inputId, outputId) {\n",
              "  const inputElement = document.getElementById(inputId);\n",
              "  inputElement.disabled = false;\n",
              "\n",
              "  const outputElement = document.getElementById(outputId);\n",
              "  outputElement.innerHTML = '';\n",
              "\n",
              "  const pickedPromise = new Promise((resolve) => {\n",
              "    inputElement.addEventListener('change', (e) => {\n",
              "      resolve(e.target.files);\n",
              "    });\n",
              "  });\n",
              "\n",
              "  const cancel = document.createElement('button');\n",
              "  inputElement.parentElement.appendChild(cancel);\n",
              "  cancel.textContent = 'Cancel upload';\n",
              "  const cancelPromise = new Promise((resolve) => {\n",
              "    cancel.onclick = () => {\n",
              "      resolve(null);\n",
              "    };\n",
              "  });\n",
              "\n",
              "  // Wait for the user to pick the files.\n",
              "  const files = yield {\n",
              "    promise: Promise.race([pickedPromise, cancelPromise]),\n",
              "    response: {\n",
              "      action: 'starting',\n",
              "    }\n",
              "  };\n",
              "\n",
              "  cancel.remove();\n",
              "\n",
              "  // Disable the input element since further picks are not allowed.\n",
              "  inputElement.disabled = true;\n",
              "\n",
              "  if (!files) {\n",
              "    return {\n",
              "      response: {\n",
              "        action: 'complete',\n",
              "      }\n",
              "    };\n",
              "  }\n",
              "\n",
              "  for (const file of files) {\n",
              "    const li = document.createElement('li');\n",
              "    li.append(span(file.name, {fontWeight: 'bold'}));\n",
              "    li.append(span(\n",
              "        `(${file.type || 'n/a'}) - ${file.size} bytes, ` +\n",
              "        `last modified: ${\n",
              "            file.lastModifiedDate ? file.lastModifiedDate.toLocaleDateString() :\n",
              "                                    'n/a'} - `));\n",
              "    const percent = span('0% done');\n",
              "    li.appendChild(percent);\n",
              "\n",
              "    outputElement.appendChild(li);\n",
              "\n",
              "    const fileDataPromise = new Promise((resolve) => {\n",
              "      const reader = new FileReader();\n",
              "      reader.onload = (e) => {\n",
              "        resolve(e.target.result);\n",
              "      };\n",
              "      reader.readAsArrayBuffer(file);\n",
              "    });\n",
              "    // Wait for the data to be ready.\n",
              "    let fileData = yield {\n",
              "      promise: fileDataPromise,\n",
              "      response: {\n",
              "        action: 'continue',\n",
              "      }\n",
              "    };\n",
              "\n",
              "    // Use a chunked sending to avoid message size limits. See b/62115660.\n",
              "    let position = 0;\n",
              "    do {\n",
              "      const length = Math.min(fileData.byteLength - position, MAX_PAYLOAD_SIZE);\n",
              "      const chunk = new Uint8Array(fileData, position, length);\n",
              "      position += length;\n",
              "\n",
              "      const base64 = btoa(String.fromCharCode.apply(null, chunk));\n",
              "      yield {\n",
              "        response: {\n",
              "          action: 'append',\n",
              "          file: file.name,\n",
              "          data: base64,\n",
              "        },\n",
              "      };\n",
              "\n",
              "      let percentDone = fileData.byteLength === 0 ?\n",
              "          100 :\n",
              "          Math.round((position / fileData.byteLength) * 100);\n",
              "      percent.textContent = `${percentDone}% done`;\n",
              "\n",
              "    } while (position < fileData.byteLength);\n",
              "  }\n",
              "\n",
              "  // All done.\n",
              "  yield {\n",
              "    response: {\n",
              "      action: 'complete',\n",
              "    }\n",
              "  };\n",
              "}\n",
              "\n",
              "scope.google = scope.google || {};\n",
              "scope.google.colab = scope.google.colab || {};\n",
              "scope.google.colab._files = {\n",
              "  _uploadFiles,\n",
              "  _uploadFilesContinue,\n",
              "};\n",
              "})(self);\n",
              "</script> "
            ]
          },
          "metadata": {}
        },
        {
          "output_type": "stream",
          "name": "stdout",
          "text": [
            "Saving model_epoch_31.pth to model_epoch_31.pth\n"
          ]
        }
      ]
    },
    {
      "cell_type": "code",
      "execution_count": 6,
      "id": "f2f19f7e",
      "metadata": {
        "colab": {
          "base_uri": "https://localhost:8080/"
        },
        "id": "f2f19f7e",
        "outputId": "0efc23cc-7de2-4978-d022-8aa568e9d0ba"
      },
      "outputs": [
        {
          "output_type": "stream",
          "name": "stdout",
          "text": [
            "input dim 1 128\n",
            "input dim 512 128\n",
            "input dim 1 128\n"
          ]
        }
      ],
      "source": [
        "import os\n",
        "import torch\n",
        "import torch.nn.functional as F\n",
        "from diff_model import nn_model\n",
        "from helpers import show_image\n",
        "from torch.utils.checkpoint import checkpoint as chkpt"
      ]
    },
    {
      "cell_type": "code",
      "execution_count": 7,
      "id": "cdfbd6e8",
      "metadata": {
        "colab": {
          "base_uri": "https://localhost:8080/"
        },
        "id": "cdfbd6e8",
        "outputId": "49733e23-d47c-445f-dc2d-81526be48a13"
      },
      "outputs": [
        {
          "output_type": "stream",
          "name": "stdout",
          "text": [
            "/content\n"
          ]
        }
      ],
      "source": [
        "device = (\n",
        "    torch.device(\"cuda\")\n",
        "    if torch.cuda.is_available()\n",
        "    else torch.device(\"mps\")\n",
        "    if torch.backends.mps.is_available()\n",
        "    else torch.device(\"cpu\")\n",
        ")\n",
        "# save_dir = \"weights/data_context/\"\n",
        "current_directory = os.getcwd()\n",
        "print(current_directory)\n",
        "save_dir = current_directory"
      ]
    },
    {
      "cell_type": "code",
      "execution_count": 8,
      "id": "6aa38fe8",
      "metadata": {
        "colab": {
          "base_uri": "https://localhost:8080/"
        },
        "id": "6aa38fe8",
        "outputId": "87609a09-8c2a-4d50-e251-83daae86245f"
      },
      "outputs": [
        {
          "output_type": "stream",
          "name": "stdout",
          "text": [
            "curr model path /content/model_epoch_31.pth\n"
          ]
        }
      ],
      "source": [
        "# load in model weights and set to eval mode\n",
        "model_path = os.path.join(save_dir + \"/model_epoch_31.pth\")\n",
        "print(\"curr model path\", model_path)"
      ]
    },
    {
      "cell_type": "code",
      "execution_count": 9,
      "id": "0b6e882a",
      "metadata": {
        "colab": {
          "base_uri": "https://localhost:8080/"
        },
        "id": "0b6e882a",
        "outputId": "3bfc6f6a-a200-4005-8903-b5faf256e7dd"
      },
      "outputs": [
        {
          "output_type": "stream",
          "name": "stdout",
          "text": [
            "model path /content/model_epoch_31.pth\n"
          ]
        },
        {
          "output_type": "stream",
          "name": "stderr",
          "text": [
            "<ipython-input-9-a0b6c5c254bc>:2: FutureWarning: You are using `torch.load` with `weights_only=False` (the current default value), which uses the default pickle module implicitly. It is possible to construct malicious pickle data which will execute arbitrary code during unpickling (See https://github.com/pytorch/pytorch/blob/main/SECURITY.md#untrusted-models for more details). In a future release, the default value for `weights_only` will be flipped to `True`. This limits the functions that could be executed during unpickling. Arbitrary objects will no longer be allowed to be loaded via this mode unless they are explicitly allowlisted by the user via `torch.serialization.add_safe_globals`. We recommend you start setting `weights_only=True` for any use case where you don't have full control of the loaded file. Please open an issue on GitHub for any issues related to this experimental feature.\n",
            "  checkpoint = torch.load(f=model_path, map_location=device)\n"
          ]
        }
      ],
      "source": [
        "print(\"model path\", model_path)\n",
        "checkpoint = torch.load(f=model_path, map_location=device)"
      ]
    },
    {
      "cell_type": "code",
      "execution_count": 10,
      "id": "1b47350f",
      "metadata": {
        "lines_to_next_cell": 1,
        "colab": {
          "base_uri": "https://localhost:8080/"
        },
        "id": "1b47350f",
        "outputId": "a1d56d6c-fca7-472f-fe12-d88e3ca8ff78"
      },
      "outputs": [
        {
          "output_type": "stream",
          "name": "stdout",
          "text": [
            "Loaded in Model\n"
          ]
        }
      ],
      "source": [
        "nn_model.load_state_dict(checkpoint[\"model_state_dict\"])\n",
        "nn_model.eval()\n",
        "print(\"Loaded in Model\")"
      ]
    },
    {
      "cell_type": "code",
      "execution_count": 11,
      "id": "0485e4c6",
      "metadata": {
        "id": "0485e4c6"
      },
      "outputs": [],
      "source": [
        "def ddim_sample(nn_model, n_samples, timesteps, alphas_cumprod, eta=0.5, device=\"cuda\"):\n",
        "    \"\"\"\n",
        "    DDIM Sampling for a diffusion model.\n",
        "\n",
        "    Args:\n",
        "        nn_model: Trained neural network model.\n",
        "        n_samples: Number of samples to generate.\n",
        "        timesteps: Total diffusion steps.\n",
        "        alphas_cumprod: Cumulative product of alphas (beta schedule).\n",
        "        eta: Controls the amount of noise injected during sampling. Default is 0 for deterministic sampling.\n",
        "        device: Device to run sampling on, 'cuda' or 'cpu'.\n",
        "\n",
        "    Returns:\n",
        "        A batch of generated samples.\n",
        "    \"\"\"\n",
        "    # Start with pure noise\n",
        "    x = torch.randn(\n",
        "        (n_samples, 3, 128, 128), device=device\n",
        "    )  # Adjust image shape as per your dataset (e.g., 3x128x128)\n",
        "    seg_mask = torch.randn((n_samples, 1, 128,128), device=device)\n",
        "    text_emb = torch.randn((n_samples, 512), device=device)\n",
        "\n",
        "    # Reverse sampling steps\n",
        "    with torch.autocast(device_type='cuda'):\n",
        "        for t in reversed(range(1, timesteps)):\n",
        "            t_tensor = torch.full((n_samples,), t, device=device, dtype=torch.long)\n",
        "\n",
        "            # Predict noise using the neural network\n",
        "            pred_noise = nn_model(x, t_tensor / timesteps, text_emb, seg_mask)\n",
        "            print('pred noise', pred_noise)\n",
        "            # Calculate x_t_minus_1 (previous step sample)\n",
        "            eps = 1e-8\n",
        "            alpha_t = alphas_cumprod[t]\n",
        "            alpha_t = torch.clamp(alpha_t, eps)\n",
        "            alpha_t_prev = alphas_cumprod[t - 1]\n",
        "            beta_t = 1 - alpha_t\n",
        "            print('vals', alpha_t, beta_t)\n",
        "            sigma_t = eta * torch.sqrt(beta_t)\n",
        "\n",
        "            print('val of sigma_t', sigma_t)\n",
        "            # Compute the next step sample\n",
        "            pred_x0 = (x - torch.sqrt(1 - (alpha_t + eps)) * pred_noise) / torch.sqrt(alpha_t+eps)\n",
        "            noise = sigma_t * torch.randn_like(x) if t > 1 else torch.zeros_like(x)\n",
        "\n",
        "            print('pred x0', pred_x0)\n",
        "            print('noise', noise)\n",
        "            # Sample the next step\n",
        "            x = torch.sqrt(alpha_t_prev) * pred_x0 + torch.sqrt(1 - alpha_t_prev) * noise\n",
        "\n",
        "            show_image(x[0], title=f\"After denoising step {t}\")\n",
        "\n",
        "            del t_tensor, pred_noise\n",
        "            torch.cuda.empty_cache()\n",
        "    return x"
      ]
    },
    {
      "cell_type": "code",
      "execution_count": 12,
      "id": "e71b539d",
      "metadata": {
        "id": "e71b539d"
      },
      "outputs": [],
      "source": [
        "# Example usage:\n",
        "n_samples = 1\n",
        "timesteps = 500  # Total timesteps used in the model\n",
        "beta_start = 1e-4\n",
        "beta_end = 0.02\n",
        "alphas_cumprod = torch.cumprod(\n",
        "    torch.linspace(beta_start, beta_end, timesteps), dim=0\n",
        ")  # Adjust based on your noise schedule"
      ]
    },
    {
      "cell_type": "code",
      "execution_count": 13,
      "id": "18f48bda",
      "metadata": {
        "colab": {
          "base_uri": "https://localhost:8080/",
          "height": 706
        },
        "id": "18f48bda",
        "outputId": "21bbc474-6103-49c2-b216-fe652bdc7c12"
      },
      "outputs": [
        {
          "output_type": "stream",
          "name": "stdout",
          "text": [
            "down 1 shape torch.Size([1, 64, 64, 64])\n",
            "down2 shape torch.Size([1, 128, 32, 32])\n",
            "seg input torch.Size([1, 1, 128, 128]) 64\n",
            "seg embeds torch.Size([1, 128, 128, 128])\n",
            "down 2 input dtype and device cuda:0 torch.float16\n",
            "attn output 111----- torch.Size([1, 4096, 512])\n",
            "attn output----- layer norm torch.Size([1, 128, 64, 64]) tensor(0.1317, device='cuda:0', dtype=torch.float16, grad_fn=<MeanBackward0>) tensor(0.9297, device='cuda:0', dtype=torch.float16, grad_fn=<StdBackward0>)\n",
            "attn output torch.Size([1, 128, 64, 64])\n",
            "layer up down2 device -- cuda:0\n",
            "up1 shape torch.Size([1, 128, 64, 64]), down1 torch.Size([1, 64, 64, 64]), up_down2 torch.Size([1, 128, 64, 64]), down2 torch.Size([1, 128, 32, 32]), combined embeds torch.Size([1, 128, 64, 64])\n",
            "up2 shape torch.Size([1, 64, 128, 128])\n",
            "attn out adjusted torch.Size([1, 64, 64, 64])\n",
            "combined embeds adjust torch.Size([1, 64, 64, 64])\n",
            "downsampled up2 torch.Size([1, 64, 64, 64])\n",
            "combined torch.Size([1, 64, 64, 64])\n",
            "up3 tensor shape torch.Size([1, 64, 128, 128])\n",
            "self out torch.Size([1, 3, 128, 128])\n"
          ]
        },
        {
          "output_type": "stream",
          "name": "stderr",
          "text": [
            "/usr/local/lib/python3.10/dist-packages/torch/_dynamo/eval_frame.py:632: UserWarning: torch.utils.checkpoint: the use_reentrant parameter should be passed explicitly. In version 2.5 we will raise an exception if use_reentrant is not passed. use_reentrant=False is recommended, but if you need to preserve the current default behavior, you can pass use_reentrant=True. Refer to docs for more details on the differences between the two variants.\n",
            "  return fn(*args, **kwargs)\n",
            "/usr/local/lib/python3.10/dist-packages/torch/utils/checkpoint.py:87: UserWarning: None of the inputs have requires_grad=True. Gradients will be None\n",
            "  warnings.warn(\n"
          ]
        },
        {
          "output_type": "error",
          "ename": "TypeError",
          "evalue": "'Tensor' object is not callable",
          "traceback": [
            "\u001b[0;31m---------------------------------------------------------------------------\u001b[0m",
            "\u001b[0;31mTypeError\u001b[0m                                 Traceback (most recent call last)",
            "\u001b[0;32m<ipython-input-13-ed7536a25799>\u001b[0m in \u001b[0;36m<cell line: 1>\u001b[0;34m()\u001b[0m\n\u001b[0;32m----> 1\u001b[0;31m \u001b[0msamples\u001b[0m \u001b[0;34m=\u001b[0m \u001b[0mddim_sample\u001b[0m\u001b[0;34m(\u001b[0m\u001b[0mnn_model\u001b[0m\u001b[0;34m,\u001b[0m \u001b[0mn_samples\u001b[0m\u001b[0;34m,\u001b[0m \u001b[0mtimesteps\u001b[0m\u001b[0;34m,\u001b[0m \u001b[0malphas_cumprod\u001b[0m\u001b[0;34m,\u001b[0m \u001b[0meta\u001b[0m\u001b[0;34m=\u001b[0m\u001b[0;36m0.5\u001b[0m\u001b[0;34m)\u001b[0m\u001b[0;34m\u001b[0m\u001b[0;34m\u001b[0m\u001b[0m\n\u001b[0m",
            "\u001b[0;32m<ipython-input-11-93ff1056843c>\u001b[0m in \u001b[0;36mddim_sample\u001b[0;34m(nn_model, n_samples, timesteps, alphas_cumprod, eta, device)\u001b[0m\n\u001b[1;32m     27\u001b[0m \u001b[0;34m\u001b[0m\u001b[0m\n\u001b[1;32m     28\u001b[0m             \u001b[0;31m# Predict noise using the neural network\u001b[0m\u001b[0;34m\u001b[0m\u001b[0;34m\u001b[0m\u001b[0m\n\u001b[0;32m---> 29\u001b[0;31m             \u001b[0mpred_noise\u001b[0m \u001b[0;34m=\u001b[0m \u001b[0mchkpt\u001b[0m\u001b[0;34m(\u001b[0m\u001b[0mnn_model\u001b[0m\u001b[0;34m(\u001b[0m\u001b[0mx\u001b[0m\u001b[0;34m,\u001b[0m \u001b[0mt_tensor\u001b[0m \u001b[0;34m/\u001b[0m \u001b[0mtimesteps\u001b[0m\u001b[0;34m,\u001b[0m \u001b[0mtext_emb\u001b[0m\u001b[0;34m,\u001b[0m \u001b[0mseg_mask\u001b[0m\u001b[0;34m)\u001b[0m\u001b[0;34m)\u001b[0m\u001b[0;34m\u001b[0m\u001b[0;34m\u001b[0m\u001b[0m\n\u001b[0m\u001b[1;32m     30\u001b[0m             \u001b[0mprint\u001b[0m\u001b[0;34m(\u001b[0m\u001b[0;34m'pred noise'\u001b[0m\u001b[0;34m,\u001b[0m \u001b[0mpred_noise\u001b[0m\u001b[0;34m)\u001b[0m\u001b[0;34m\u001b[0m\u001b[0;34m\u001b[0m\u001b[0m\n\u001b[1;32m     31\u001b[0m             \u001b[0;31m# Calculate x_t_minus_1 (previous step sample)\u001b[0m\u001b[0;34m\u001b[0m\u001b[0;34m\u001b[0m\u001b[0m\n",
            "\u001b[0;32m/usr/local/lib/python3.10/dist-packages/torch/_compile.py\u001b[0m in \u001b[0;36minner\u001b[0;34m(*args, **kwargs)\u001b[0m\n\u001b[1;32m     30\u001b[0m                 \u001b[0mfn\u001b[0m\u001b[0;34m.\u001b[0m\u001b[0m__dynamo_disable\u001b[0m \u001b[0;34m=\u001b[0m \u001b[0mdisable_fn\u001b[0m\u001b[0;34m\u001b[0m\u001b[0;34m\u001b[0m\u001b[0m\n\u001b[1;32m     31\u001b[0m \u001b[0;34m\u001b[0m\u001b[0m\n\u001b[0;32m---> 32\u001b[0;31m             \u001b[0;32mreturn\u001b[0m \u001b[0mdisable_fn\u001b[0m\u001b[0;34m(\u001b[0m\u001b[0;34m*\u001b[0m\u001b[0margs\u001b[0m\u001b[0;34m,\u001b[0m \u001b[0;34m**\u001b[0m\u001b[0mkwargs\u001b[0m\u001b[0;34m)\u001b[0m\u001b[0;34m\u001b[0m\u001b[0;34m\u001b[0m\u001b[0m\n\u001b[0m\u001b[1;32m     33\u001b[0m \u001b[0;34m\u001b[0m\u001b[0m\n\u001b[1;32m     34\u001b[0m         \u001b[0;32mreturn\u001b[0m \u001b[0minner\u001b[0m\u001b[0;34m\u001b[0m\u001b[0;34m\u001b[0m\u001b[0m\n",
            "\u001b[0;32m/usr/local/lib/python3.10/dist-packages/torch/_dynamo/eval_frame.py\u001b[0m in \u001b[0;36m_fn\u001b[0;34m(*args, **kwargs)\u001b[0m\n\u001b[1;32m    630\u001b[0m             \u001b[0mprior\u001b[0m \u001b[0;34m=\u001b[0m \u001b[0m_maybe_set_eval_frame\u001b[0m\u001b[0;34m(\u001b[0m\u001b[0mcallback\u001b[0m\u001b[0;34m)\u001b[0m\u001b[0;34m\u001b[0m\u001b[0;34m\u001b[0m\u001b[0m\n\u001b[1;32m    631\u001b[0m             \u001b[0;32mtry\u001b[0m\u001b[0;34m:\u001b[0m\u001b[0;34m\u001b[0m\u001b[0;34m\u001b[0m\u001b[0m\n\u001b[0;32m--> 632\u001b[0;31m                 \u001b[0;32mreturn\u001b[0m \u001b[0mfn\u001b[0m\u001b[0;34m(\u001b[0m\u001b[0;34m*\u001b[0m\u001b[0margs\u001b[0m\u001b[0;34m,\u001b[0m \u001b[0;34m**\u001b[0m\u001b[0mkwargs\u001b[0m\u001b[0;34m)\u001b[0m\u001b[0;34m\u001b[0m\u001b[0;34m\u001b[0m\u001b[0m\n\u001b[0m\u001b[1;32m    633\u001b[0m             \u001b[0;32mfinally\u001b[0m\u001b[0;34m:\u001b[0m\u001b[0;34m\u001b[0m\u001b[0;34m\u001b[0m\u001b[0m\n\u001b[1;32m    634\u001b[0m                 \u001b[0m_maybe_set_eval_frame\u001b[0m\u001b[0;34m(\u001b[0m\u001b[0mprior\u001b[0m\u001b[0;34m)\u001b[0m\u001b[0;34m\u001b[0m\u001b[0;34m\u001b[0m\u001b[0m\n",
            "\u001b[0;32m/usr/local/lib/python3.10/dist-packages/torch/utils/checkpoint.py\u001b[0m in \u001b[0;36mcheckpoint\u001b[0;34m(function, use_reentrant, context_fn, determinism_check, debug, *args, **kwargs)\u001b[0m\n\u001b[1;32m    487\u001b[0m                 \u001b[0;34m\"use_reentrant=False.\"\u001b[0m\u001b[0;34m\u001b[0m\u001b[0;34m\u001b[0m\u001b[0m\n\u001b[1;32m    488\u001b[0m             )\n\u001b[0;32m--> 489\u001b[0;31m         \u001b[0;32mreturn\u001b[0m \u001b[0mCheckpointFunction\u001b[0m\u001b[0;34m.\u001b[0m\u001b[0mapply\u001b[0m\u001b[0;34m(\u001b[0m\u001b[0mfunction\u001b[0m\u001b[0;34m,\u001b[0m \u001b[0mpreserve\u001b[0m\u001b[0;34m,\u001b[0m \u001b[0;34m*\u001b[0m\u001b[0margs\u001b[0m\u001b[0;34m)\u001b[0m\u001b[0;34m\u001b[0m\u001b[0;34m\u001b[0m\u001b[0m\n\u001b[0m\u001b[1;32m    490\u001b[0m     \u001b[0;32melse\u001b[0m\u001b[0;34m:\u001b[0m\u001b[0;34m\u001b[0m\u001b[0;34m\u001b[0m\u001b[0m\n\u001b[1;32m    491\u001b[0m         gen = _checkpoint_without_reentrant_generator(\n",
            "\u001b[0;32m/usr/local/lib/python3.10/dist-packages/torch/autograd/function.py\u001b[0m in \u001b[0;36mapply\u001b[0;34m(cls, *args, **kwargs)\u001b[0m\n\u001b[1;32m    573\u001b[0m             \u001b[0;31m# See NOTE: [functorch vjp and autograd interaction]\u001b[0m\u001b[0;34m\u001b[0m\u001b[0;34m\u001b[0m\u001b[0m\n\u001b[1;32m    574\u001b[0m             \u001b[0margs\u001b[0m \u001b[0;34m=\u001b[0m \u001b[0m_functorch\u001b[0m\u001b[0;34m.\u001b[0m\u001b[0mutils\u001b[0m\u001b[0;34m.\u001b[0m\u001b[0munwrap_dead_wrappers\u001b[0m\u001b[0;34m(\u001b[0m\u001b[0margs\u001b[0m\u001b[0;34m)\u001b[0m\u001b[0;34m\u001b[0m\u001b[0;34m\u001b[0m\u001b[0m\n\u001b[0;32m--> 575\u001b[0;31m             \u001b[0;32mreturn\u001b[0m \u001b[0msuper\u001b[0m\u001b[0;34m(\u001b[0m\u001b[0;34m)\u001b[0m\u001b[0;34m.\u001b[0m\u001b[0mapply\u001b[0m\u001b[0;34m(\u001b[0m\u001b[0;34m*\u001b[0m\u001b[0margs\u001b[0m\u001b[0;34m,\u001b[0m \u001b[0;34m**\u001b[0m\u001b[0mkwargs\u001b[0m\u001b[0;34m)\u001b[0m  \u001b[0;31m# type: ignore[misc]\u001b[0m\u001b[0;34m\u001b[0m\u001b[0;34m\u001b[0m\u001b[0m\n\u001b[0m\u001b[1;32m    576\u001b[0m \u001b[0;34m\u001b[0m\u001b[0m\n\u001b[1;32m    577\u001b[0m         \u001b[0;32mif\u001b[0m \u001b[0;32mnot\u001b[0m \u001b[0mis_setup_ctx_defined\u001b[0m\u001b[0;34m:\u001b[0m\u001b[0;34m\u001b[0m\u001b[0;34m\u001b[0m\u001b[0m\n",
            "\u001b[0;32m/usr/local/lib/python3.10/dist-packages/torch/utils/checkpoint.py\u001b[0m in \u001b[0;36mforward\u001b[0;34m(ctx, run_function, preserve_rng_state, *args)\u001b[0m\n\u001b[1;32m    262\u001b[0m \u001b[0;34m\u001b[0m\u001b[0m\n\u001b[1;32m    263\u001b[0m         \u001b[0;32mwith\u001b[0m \u001b[0mtorch\u001b[0m\u001b[0;34m.\u001b[0m\u001b[0mno_grad\u001b[0m\u001b[0;34m(\u001b[0m\u001b[0;34m)\u001b[0m\u001b[0;34m:\u001b[0m\u001b[0;34m\u001b[0m\u001b[0;34m\u001b[0m\u001b[0m\n\u001b[0;32m--> 264\u001b[0;31m             \u001b[0moutputs\u001b[0m \u001b[0;34m=\u001b[0m \u001b[0mrun_function\u001b[0m\u001b[0;34m(\u001b[0m\u001b[0;34m*\u001b[0m\u001b[0margs\u001b[0m\u001b[0;34m)\u001b[0m\u001b[0;34m\u001b[0m\u001b[0;34m\u001b[0m\u001b[0m\n\u001b[0m\u001b[1;32m    265\u001b[0m         \u001b[0;32mreturn\u001b[0m \u001b[0moutputs\u001b[0m\u001b[0;34m\u001b[0m\u001b[0;34m\u001b[0m\u001b[0m\n\u001b[1;32m    266\u001b[0m \u001b[0;34m\u001b[0m\u001b[0m\n",
            "\u001b[0;31mTypeError\u001b[0m: 'Tensor' object is not callable"
          ]
        }
      ],
      "source": [
        "samples = ddim_sample(nn_model, n_samples, timesteps, alphas_cumprod, eta=0.5)"
      ]
    },
    {
      "cell_type": "code",
      "execution_count": null,
      "id": "9cf369a8",
      "metadata": {
        "id": "9cf369a8"
      },
      "outputs": [],
      "source": []
    },
    {
      "cell_type": "code",
      "execution_count": null,
      "id": "39129751",
      "metadata": {
        "id": "39129751"
      },
      "outputs": [],
      "source": [
        "def pndm_sample(nn_model, n_samples, timesteps, alphas_cumprod, device=\"cuda\"):\n",
        "    \"\"\"\n",
        "    PNDM Sampling for a diffusion model.\n",
        "\n",
        "    Args:\n",
        "        nn_model: Trained neural network model.\n",
        "        n_samples: Number of samples to generate.\n",
        "        timesteps: Total diffusion steps.\n",
        "        alphas_cumprod: Cumulative product of alphas (beta schedule).\n",
        "        device: Device to run sampling on, 'cuda' or 'cpu'.\n",
        "\n",
        "    Returns:\n",
        "        A batch of generated samples.\n",
        "    \"\"\"\n",
        "    # Start with pure noise\n",
        "    x = torch.randn(\n",
        "        (n_samples, 3, 128, 128), device=device\n",
        "    )  # Adjust image shape as per your dataset\n",
        "\n",
        "    # Define step size (can be adjusted for quality vs speed)\n",
        "    step_size = timesteps // 4  # Skip 4 steps at a time\n",
        "\n",
        "    for i, t in enumerate(reversed(range(1, timesteps, step_size))):\n",
        "        t_tensor = torch.full((n_samples,), t, device=device, dtype=torch.long)\n",
        "\n",
        "        # Predict noise using the neural network\n",
        "        pred_noise = nn_model(x, t_tensor / timesteps)\n",
        "\n",
        "        # Compute the cumulative product of alpha_t and the previous one\n",
        "        alpha_t = alphas_cumprod[t]\n",
        "        alpha_t_prev = (\n",
        "            alphas_cumprod[t - step_size] if t - step_size >= 0 else alphas_cumprod[0]\n",
        "        )\n",
        "\n",
        "        # Calculate sigma for noise injection\n",
        "        sigma_t = torch.sqrt(1 - alpha_t)\n",
        "\n",
        "        # Reconstruct the next x using noise prediction\n",
        "        pred_x0 = (x - sigma_t * pred_noise) / torch.sqrt(alpha_t)\n",
        "\n",
        "        # Use the difference between alpha_t and alpha_t_prev to correct x\n",
        "        x = (\n",
        "            torch.sqrt(alpha_t_prev) * pred_x0\n",
        "            + torch.sqrt(1 - alpha_t_prev) * pred_noise\n",
        "        )\n",
        "\n",
        "        show_image((samples[0]), title=f\"After denoising step {i}\")\n",
        "\n",
        "    return x"
      ]
    },
    {
      "cell_type": "code",
      "execution_count": null,
      "id": "775ac7a2",
      "metadata": {
        "id": "775ac7a2"
      },
      "outputs": [],
      "source": [
        "# Example usage:\n",
        "samples_pndm = pndm_sample(nn_model, n_samples, timesteps, alphas_cumprod)"
      ]
    }
  ],
  "metadata": {
    "jupytext": {
      "cell_metadata_filter": "-all",
      "main_language": "python",
      "notebook_metadata_filter": "-all"
    },
    "colab": {
      "provenance": [],
      "gpuType": "T4"
    },
    "language_info": {
      "name": "python"
    },
    "kernelspec": {
      "name": "python3",
      "display_name": "Python 3"
    },
    "accelerator": "GPU"
  },
  "nbformat": 4,
  "nbformat_minor": 5
}