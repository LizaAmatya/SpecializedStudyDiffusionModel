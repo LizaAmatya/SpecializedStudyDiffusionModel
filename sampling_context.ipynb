{
  "cells": [
    {
      "cell_type": "code",
      "source": [
        "from google.colab import files\n",
        "uploaded = files.upload()"
      ],
      "metadata": {
        "id": "sBDPckYGp2Ja"
      },
      "id": "sBDPckYGp2Ja",
      "execution_count": null,
      "outputs": []
    },
    {
      "cell_type": "code",
      "execution_count": 19,
      "id": "f2f19f7e",
      "metadata": {
        "id": "f2f19f7e"
      },
      "outputs": [],
      "source": [
        "import os\n",
        "import torch\n",
        "import torch.nn.functional as F\n",
        "from diff_model import nn_model\n",
        "from helpers import show_image\n",
        "from torch.utils.checkpoint import checkpoint as chkpt\n",
        "import gc"
      ]
    },
    {
      "cell_type": "code",
      "execution_count": null,
      "id": "cdfbd6e8",
      "metadata": {
        "id": "cdfbd6e8"
      },
      "outputs": [],
      "source": [
        "device = (\n",
        "    torch.device(\"cuda\")\n",
        "    if torch.cuda.is_available()\n",
        "    else torch.device(\"mps\")\n",
        "    if torch.backends.mps.is_available()\n",
        "    else torch.device(\"cpu\")\n",
        ")\n",
        "# save_dir = \"weights/data_context/\"\n",
        "current_directory = os.getcwd()\n",
        "print(current_directory)\n",
        "save_dir = current_directory"
      ]
    },
    {
      "cell_type": "code",
      "execution_count": 8,
      "id": "6aa38fe8",
      "metadata": {
        "colab": {
          "base_uri": "https://localhost:8080/"
        },
        "id": "6aa38fe8",
        "outputId": "87609a09-8c2a-4d50-e251-83daae86245f"
      },
      "outputs": [
        {
          "output_type": "stream",
          "name": "stdout",
          "text": [
            "curr model path /content/model_epoch_31.pth\n"
          ]
        }
      ],
      "source": [
        "# load in model weights and set to eval mode\n",
        "model_path = os.path.join(save_dir + \"/model_epoch_31.pth\")\n",
        "print(\"curr model path\", model_path)"
      ]
    },
    {
      "cell_type": "code",
      "execution_count": null,
      "id": "0b6e882a",
      "metadata": {
        "id": "0b6e882a"
      },
      "outputs": [],
      "source": [
        "print(\"model path\", model_path)\n",
        "checkpoint = torch.load(f=model_path, map_location=device)"
      ]
    },
    {
      "cell_type": "code",
      "execution_count": 10,
      "id": "1b47350f",
      "metadata": {
        "lines_to_next_cell": 1,
        "colab": {
          "base_uri": "https://localhost:8080/"
        },
        "id": "1b47350f",
        "outputId": "a1d56d6c-fca7-472f-fe12-d88e3ca8ff78"
      },
      "outputs": [
        {
          "output_type": "stream",
          "name": "stdout",
          "text": [
            "Loaded in Model\n"
          ]
        }
      ],
      "source": [
        "nn_model.load_state_dict(checkpoint[\"model_state_dict\"])\n",
        "nn_model.eval()\n",
        "print(\"Loaded in Model\")"
      ]
    },
    {
      "cell_type": "code",
      "execution_count": 14,
      "id": "0485e4c6",
      "metadata": {
        "id": "0485e4c6"
      },
      "outputs": [],
      "source": [
        "def ddim_sample(nn_model, n_samples, timesteps, alphas_cumprod, eta=0.5, device=\"cuda\"):\n",
        "    \"\"\"\n",
        "    DDIM Sampling for a diffusion model.\n",
        "\n",
        "    Args:\n",
        "        nn_model: Trained neural network model.\n",
        "        n_samples: Number of samples to generate.\n",
        "        timesteps: Total diffusion steps.\n",
        "        alphas_cumprod: Cumulative product of alphas (beta schedule).\n",
        "        eta: Controls the amount of noise injected during sampling. Default is 0 for deterministic sampling.\n",
        "        device: Device to run sampling on, 'cuda' or 'cpu'.\n",
        "\n",
        "    Returns:\n",
        "        A batch of generated samples.\n",
        "    \"\"\"\n",
        "    # Start with pure noise\n",
        "    x = torch.randn(\n",
        "        (n_samples, 3, 128, 128), device=device\n",
        "    )  # Adjust image shape as per your dataset (e.g., 3x128x128)\n",
        "    seg_mask = torch.randn((n_samples, 1, 128,128), device=device)\n",
        "    text_emb = torch.randn((n_samples, 512), device=device)\n",
        "\n",
        "    # Reverse sampling steps\n",
        "    with torch.autocast(device_type='cuda'):\n",
        "        for t in reversed(range(1, timesteps)):\n",
        "            t_tensor = torch.full((n_samples,), t, device=device, dtype=torch.long)\n",
        "\n",
        "            # Predict noise using the neural network\n",
        "            pred_noise = nn_model(x, t_tensor / timesteps, text_emb, seg_mask)\n",
        "            print('pred noise', pred_noise.shape)\n",
        "            # Calculate x_t_minus_1 (previous step sample)\n",
        "            eps = 1e-8\n",
        "            alpha_t = alphas_cumprod[t]\n",
        "            alpha_t = torch.clamp(alpha_t, eps)\n",
        "            alpha_t_prev = alphas_cumprod[t - 1]\n",
        "            beta_t = 1 - alpha_t\n",
        "            print('vals', alpha_t, beta_t)\n",
        "            sigma_t = eta * torch.sqrt(beta_t)\n",
        "\n",
        "            print('val of sigma_t', sigma_t)\n",
        "            # Compute the next step sample\n",
        "            pred_x0 = (x - torch.sqrt(1 - (alpha_t + eps)) * pred_noise) / torch.sqrt(alpha_t+eps)\n",
        "            noise = sigma_t * torch.randn_like(x) if t > 1 else torch.zeros_like(x)\n",
        "\n",
        "            print('pred x0', pred_x0)\n",
        "            print('noise', noise)\n",
        "            # Sample the next step\n",
        "            x = torch.sqrt(alpha_t_prev) * pred_x0 + torch.sqrt(1 - alpha_t_prev) * noise\n",
        "\n",
        "            show_image(x[0], title=f\"After denoising step {t}\")\n",
        "\n",
        "            del t_tensor, pred_noise\n",
        "            torch.cuda.empty_cache()\n",
        "    return x"
      ]
    },
    {
      "cell_type": "code",
      "execution_count": 15,
      "id": "e71b539d",
      "metadata": {
        "id": "e71b539d"
      },
      "outputs": [],
      "source": [
        "# Example usage:\n",
        "n_samples = 1\n",
        "timesteps = 500  # Total timesteps used in the model\n",
        "beta_start = 1e-4\n",
        "beta_end = 0.02\n",
        "alphas_cumprod = torch.cumprod(\n",
        "    torch.linspace(beta_start, beta_end, timesteps), dim=0\n",
        ")  # Adjust based on your noise schedule"
      ]
    },
    {
      "cell_type": "code",
      "execution_count": null,
      "id": "18f48bda",
      "metadata": {
        "id": "18f48bda"
      },
      "outputs": [],
      "source": [
        "samples = ddim_sample(nn_model, n_samples, timesteps, alphas_cumprod, eta=0.5)"
      ]
    },
    {
      "cell_type": "code",
      "execution_count": 41,
      "id": "9cf369a8",
      "metadata": {
        "id": "9cf369a8"
      },
      "outputs": [],
      "source": [
        "gc.collect()\n",
        "torch.cuda.empty_cache()"
      ]
    },
    {
      "cell_type": "code",
      "execution_count": 44,
      "id": "39129751",
      "metadata": {
        "id": "39129751"
      },
      "outputs": [],
      "source": [
        "def pndm_sample(nn_model, n_samples, timesteps, alphas_cumprod, device=\"cuda\"):\n",
        "    \"\"\"\n",
        "    PNDM Sampling for a diffusion model.\n",
        "\n",
        "    Args:\n",
        "        nn_model: Trained neural network model.\n",
        "        n_samples: Number of samples to generate.\n",
        "        timesteps: Total diffusion steps.\n",
        "        alphas_cumprod: Cumulative product of alphas (beta schedule).\n",
        "        device: Device to run sampling on, 'cuda' or 'cpu'.\n",
        "\n",
        "    Returns:\n",
        "        A batch of generated samples.\n",
        "    \"\"\"\n",
        "    # Start with pure noise\n",
        "    x = torch.randn(\n",
        "        (n_samples, 3, 128, 128), device=device\n",
        "    )  # Adjust image shape as per your\n",
        "    seg_mask = torch.randn((n_samples, 1, 128,128), device=device)\n",
        "    text_emb = torch.randn((n_samples, 512), device=device)\n",
        "\n",
        "    # Define step size (can be adjusted for quality vs speed)\n",
        "    step_size = 4  # Skip 4 steps at a time\n",
        "\n",
        "    for t in reversed(range(1, timesteps, step_size)):\n",
        "        print('t', t)\n",
        "        t_tensor = torch.full((n_samples,), t, device=device, dtype=torch.long)\n",
        "\n",
        "        # Predict noise using the neural network\n",
        "        pred_noise = nn_model(x, t_tensor / timesteps, text_emb, seg_mask)\n",
        "\n",
        "        print('pred noise', pred_noise.shape)\n",
        "        # Compute the cumulative product of alpha_t and the previous one\n",
        "        eps = 1e-8\n",
        "        alpha_t = alphas_cumprod[t]\n",
        "        alpha_t = torch.clamp(alpha_t, eps)\n",
        "        alpha_t_prev = (\n",
        "            alphas_cumprod[t - step_size] if t - step_size >= 0 else alphas_cumprod[0]\n",
        "        )\n",
        "        print('vals', alpha_t, alpha_t_prev)\n",
        "\n",
        "        # Calculate sigma for noise injection\n",
        "        sigma_t = torch.sqrt(1 - alpha_t+eps)\n",
        "        print('val of sigma_t', sigma_t)\n",
        "\n",
        "        # Reconstruct the next x using noise prediction\n",
        "        pred_x0 = (x - sigma_t * pred_noise) / torch.sqrt(alpha_t)\n",
        "        print('pred x0', pred_x0)\n",
        "        # Use the difference between alpha_t and alpha_t_prev to correct x\n",
        "        x = (\n",
        "            torch.sqrt(alpha_t_prev) * pred_x0\n",
        "            + torch.sqrt(1 - alpha_t_prev) * pred_noise\n",
        "        )\n",
        "\n",
        "        show_image((x[0]), title=f\"After denoising step {t}\")\n",
        "\n",
        "    return x"
      ]
    },
    {
      "cell_type": "code",
      "execution_count": null,
      "id": "775ac7a2",
      "metadata": {
        "collapsed": true,
        "id": "775ac7a2"
      },
      "outputs": [],
      "source": [
        "# Example usage:\n",
        "samples_pndm = pndm_sample(nn_model, n_samples, timesteps, alphas_cumprod)"
      ]
    },
    {
      "cell_type": "code",
      "source": [],
      "metadata": {
        "id": "WS3FoRk83v9Q"
      },
      "id": "WS3FoRk83v9Q",
      "execution_count": null,
      "outputs": []
    }
  ],
  "metadata": {
    "jupytext": {
      "cell_metadata_filter": "-all",
      "main_language": "python",
      "notebook_metadata_filter": "-all"
    },
    "colab": {
      "provenance": [],
      "gpuType": "T4"
    },
    "language_info": {
      "name": "python"
    },
    "kernelspec": {
      "name": "python3",
      "display_name": "Python 3"
    },
    "accelerator": "GPU"
  },
  "nbformat": 4,
  "nbformat_minor": 5
}