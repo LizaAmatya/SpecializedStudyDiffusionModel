{
  "cells": [
    {
      "cell_type": "code",
      "source": [
        "from google.colab import files\n",
        "uploaded = files.upload()"
      ],
      "metadata": {
        "id": "sBDPckYGp2Ja",
        "outputId": "a10a9c64-916e-4fb1-c504-0e9c4d3d4cff",
        "colab": {
          "base_uri": "https://localhost:8080/",
          "height": 74
        }
      },
      "id": "sBDPckYGp2Ja",
      "execution_count": 6,
      "outputs": [
        {
          "output_type": "display_data",
          "data": {
            "text/plain": [
              "<IPython.core.display.HTML object>"
            ],
            "text/html": [
              "\n",
              "     <input type=\"file\" id=\"files-ebc4a1d3-835f-4bef-9bca-2841e7e6ace7\" name=\"files[]\" multiple disabled\n",
              "        style=\"border:none\" />\n",
              "     <output id=\"result-ebc4a1d3-835f-4bef-9bca-2841e7e6ace7\">\n",
              "      Upload widget is only available when the cell has been executed in the\n",
              "      current browser session. Please rerun this cell to enable.\n",
              "      </output>\n",
              "      <script>// Copyright 2017 Google LLC\n",
              "//\n",
              "// Licensed under the Apache License, Version 2.0 (the \"License\");\n",
              "// you may not use this file except in compliance with the License.\n",
              "// You may obtain a copy of the License at\n",
              "//\n",
              "//      http://www.apache.org/licenses/LICENSE-2.0\n",
              "//\n",
              "// Unless required by applicable law or agreed to in writing, software\n",
              "// distributed under the License is distributed on an \"AS IS\" BASIS,\n",
              "// WITHOUT WARRANTIES OR CONDITIONS OF ANY KIND, either express or implied.\n",
              "// See the License for the specific language governing permissions and\n",
              "// limitations under the License.\n",
              "\n",
              "/**\n",
              " * @fileoverview Helpers for google.colab Python module.\n",
              " */\n",
              "(function(scope) {\n",
              "function span(text, styleAttributes = {}) {\n",
              "  const element = document.createElement('span');\n",
              "  element.textContent = text;\n",
              "  for (const key of Object.keys(styleAttributes)) {\n",
              "    element.style[key] = styleAttributes[key];\n",
              "  }\n",
              "  return element;\n",
              "}\n",
              "\n",
              "// Max number of bytes which will be uploaded at a time.\n",
              "const MAX_PAYLOAD_SIZE = 100 * 1024;\n",
              "\n",
              "function _uploadFiles(inputId, outputId) {\n",
              "  const steps = uploadFilesStep(inputId, outputId);\n",
              "  const outputElement = document.getElementById(outputId);\n",
              "  // Cache steps on the outputElement to make it available for the next call\n",
              "  // to uploadFilesContinue from Python.\n",
              "  outputElement.steps = steps;\n",
              "\n",
              "  return _uploadFilesContinue(outputId);\n",
              "}\n",
              "\n",
              "// This is roughly an async generator (not supported in the browser yet),\n",
              "// where there are multiple asynchronous steps and the Python side is going\n",
              "// to poll for completion of each step.\n",
              "// This uses a Promise to block the python side on completion of each step,\n",
              "// then passes the result of the previous step as the input to the next step.\n",
              "function _uploadFilesContinue(outputId) {\n",
              "  const outputElement = document.getElementById(outputId);\n",
              "  const steps = outputElement.steps;\n",
              "\n",
              "  const next = steps.next(outputElement.lastPromiseValue);\n",
              "  return Promise.resolve(next.value.promise).then((value) => {\n",
              "    // Cache the last promise value to make it available to the next\n",
              "    // step of the generator.\n",
              "    outputElement.lastPromiseValue = value;\n",
              "    return next.value.response;\n",
              "  });\n",
              "}\n",
              "\n",
              "/**\n",
              " * Generator function which is called between each async step of the upload\n",
              " * process.\n",
              " * @param {string} inputId Element ID of the input file picker element.\n",
              " * @param {string} outputId Element ID of the output display.\n",
              " * @return {!Iterable<!Object>} Iterable of next steps.\n",
              " */\n",
              "function* uploadFilesStep(inputId, outputId) {\n",
              "  const inputElement = document.getElementById(inputId);\n",
              "  inputElement.disabled = false;\n",
              "\n",
              "  const outputElement = document.getElementById(outputId);\n",
              "  outputElement.innerHTML = '';\n",
              "\n",
              "  const pickedPromise = new Promise((resolve) => {\n",
              "    inputElement.addEventListener('change', (e) => {\n",
              "      resolve(e.target.files);\n",
              "    });\n",
              "  });\n",
              "\n",
              "  const cancel = document.createElement('button');\n",
              "  inputElement.parentElement.appendChild(cancel);\n",
              "  cancel.textContent = 'Cancel upload';\n",
              "  const cancelPromise = new Promise((resolve) => {\n",
              "    cancel.onclick = () => {\n",
              "      resolve(null);\n",
              "    };\n",
              "  });\n",
              "\n",
              "  // Wait for the user to pick the files.\n",
              "  const files = yield {\n",
              "    promise: Promise.race([pickedPromise, cancelPromise]),\n",
              "    response: {\n",
              "      action: 'starting',\n",
              "    }\n",
              "  };\n",
              "\n",
              "  cancel.remove();\n",
              "\n",
              "  // Disable the input element since further picks are not allowed.\n",
              "  inputElement.disabled = true;\n",
              "\n",
              "  if (!files) {\n",
              "    return {\n",
              "      response: {\n",
              "        action: 'complete',\n",
              "      }\n",
              "    };\n",
              "  }\n",
              "\n",
              "  for (const file of files) {\n",
              "    const li = document.createElement('li');\n",
              "    li.append(span(file.name, {fontWeight: 'bold'}));\n",
              "    li.append(span(\n",
              "        `(${file.type || 'n/a'}) - ${file.size} bytes, ` +\n",
              "        `last modified: ${\n",
              "            file.lastModifiedDate ? file.lastModifiedDate.toLocaleDateString() :\n",
              "                                    'n/a'} - `));\n",
              "    const percent = span('0% done');\n",
              "    li.appendChild(percent);\n",
              "\n",
              "    outputElement.appendChild(li);\n",
              "\n",
              "    const fileDataPromise = new Promise((resolve) => {\n",
              "      const reader = new FileReader();\n",
              "      reader.onload = (e) => {\n",
              "        resolve(e.target.result);\n",
              "      };\n",
              "      reader.readAsArrayBuffer(file);\n",
              "    });\n",
              "    // Wait for the data to be ready.\n",
              "    let fileData = yield {\n",
              "      promise: fileDataPromise,\n",
              "      response: {\n",
              "        action: 'continue',\n",
              "      }\n",
              "    };\n",
              "\n",
              "    // Use a chunked sending to avoid message size limits. See b/62115660.\n",
              "    let position = 0;\n",
              "    do {\n",
              "      const length = Math.min(fileData.byteLength - position, MAX_PAYLOAD_SIZE);\n",
              "      const chunk = new Uint8Array(fileData, position, length);\n",
              "      position += length;\n",
              "\n",
              "      const base64 = btoa(String.fromCharCode.apply(null, chunk));\n",
              "      yield {\n",
              "        response: {\n",
              "          action: 'append',\n",
              "          file: file.name,\n",
              "          data: base64,\n",
              "        },\n",
              "      };\n",
              "\n",
              "      let percentDone = fileData.byteLength === 0 ?\n",
              "          100 :\n",
              "          Math.round((position / fileData.byteLength) * 100);\n",
              "      percent.textContent = `${percentDone}% done`;\n",
              "\n",
              "    } while (position < fileData.byteLength);\n",
              "  }\n",
              "\n",
              "  // All done.\n",
              "  yield {\n",
              "    response: {\n",
              "      action: 'complete',\n",
              "    }\n",
              "  };\n",
              "}\n",
              "\n",
              "scope.google = scope.google || {};\n",
              "scope.google.colab = scope.google.colab || {};\n",
              "scope.google.colab._files = {\n",
              "  _uploadFiles,\n",
              "  _uploadFilesContinue,\n",
              "};\n",
              "})(self);\n",
              "</script> "
            ]
          },
          "metadata": {}
        },
        {
          "output_type": "stream",
          "name": "stdout",
          "text": [
            "Saving model_epoch_31.pth to model_epoch_31.pth\n"
          ]
        }
      ]
    },
    {
      "cell_type": "code",
      "execution_count": 5,
      "id": "f2f19f7e",
      "metadata": {
        "id": "f2f19f7e"
      },
      "outputs": [],
      "source": [
        "import os\n",
        "import torch\n",
        "import torch.nn.functional as F\n",
        "from diff_model import nn_model\n",
        "from helpers import show_image\n",
        "from torch.utils.checkpoint import checkpoint as chkpt"
      ]
    },
    {
      "cell_type": "code",
      "execution_count": 7,
      "id": "cdfbd6e8",
      "metadata": {
        "id": "cdfbd6e8"
      },
      "outputs": [],
      "source": [
        "device = (\n",
        "    torch.device(\"cuda\")\n",
        "    if torch.cuda.is_available()\n",
        "    else torch.device(\"mps\")\n",
        "    if torch.backends.mps.is_available()\n",
        "    else torch.device(\"cpu\")\n",
        ")\n",
        "# save_dir = \"weights/data_context/\"\n",
        "current_directory = os.getcwd()\n",
        "print(current_directory)\n",
        "save_dir = current_directory"
      ]
    },
    {
      "cell_type": "code",
      "execution_count": null,
      "id": "6aa38fe8",
      "metadata": {
        "id": "6aa38fe8"
      },
      "outputs": [],
      "source": [
        "# load in model weights and set to eval mode\n",
        "print(\"curr dir\", os.getcwd())\n",
        "model_path = os.path.join(save_dir + \"/model_epoch_31.pth\")"
      ]
    },
    {
      "cell_type": "code",
      "execution_count": null,
      "id": "0b6e882a",
      "metadata": {
        "id": "0b6e882a"
      },
      "outputs": [],
      "source": [
        "print(\"model path\", model_path)\n",
        "checkpoint = torch.load(f=model_path, map_location=device)"
      ]
    },
    {
      "cell_type": "code",
      "execution_count": null,
      "id": "1b47350f",
      "metadata": {
        "lines_to_next_cell": 1,
        "id": "1b47350f"
      },
      "outputs": [],
      "source": [
        "nn_model.load_state_dict(checkpoint[\"model_state_dict\"])\n",
        "nn_model.eval()\n",
        "print(\"Loaded in Model\")"
      ]
    },
    {
      "cell_type": "code",
      "execution_count": null,
      "id": "0485e4c6",
      "metadata": {
        "id": "0485e4c6"
      },
      "outputs": [],
      "source": [
        "def ddim_sample(nn_model, n_samples, timesteps, alphas_cumprod, eta=0.5, device=\"cuda\"):\n",
        "    \"\"\"\n",
        "    DDIM Sampling for a diffusion model.\n",
        "\n",
        "    Args:\n",
        "        nn_model: Trained neural network model.\n",
        "        n_samples: Number of samples to generate.\n",
        "        timesteps: Total diffusion steps.\n",
        "        alphas_cumprod: Cumulative product of alphas (beta schedule).\n",
        "        eta: Controls the amount of noise injected during sampling. Default is 0 for deterministic sampling.\n",
        "        device: Device to run sampling on, 'cuda' or 'cpu'.\n",
        "\n",
        "    Returns:\n",
        "        A batch of generated samples.\n",
        "    \"\"\"\n",
        "    # Start with pure noise\n",
        "    x = torch.randn(\n",
        "        (n_samples, 3, 128, 128), device=device\n",
        "    )  # Adjust image shape as per your dataset (e.g., 3x128x128)\n",
        "    seg_mask = torch.randn((n_samples, 1, 128,128), device=device)\n",
        "    text_emb = torch.randn((n_samples, 512), device=device)\n",
        "\n",
        "    # Reverse sampling steps\n",
        "    with torch.autocast(device_type='cuda'):\n",
        "        for t in reversed(range(1, timesteps)):\n",
        "            t_tensor = torch.full((n_samples,), t, device=device, dtype=torch.long)\n",
        "\n",
        "            # Predict noise using the neural network\n",
        "            pred_noise = chkpt(nn_model(x, t_tensor / timesteps, text_emb, seg_mask))\n",
        "            print('pred noise', pred_noise)\n",
        "            # Calculate x_t_minus_1 (previous step sample)\n",
        "            eps = 1e-8\n",
        "            alpha_t = alphas_cumprod[t]\n",
        "            alpha_t = torch.clamp(alpha_t, eps)\n",
        "            alpha_t_prev = alphas_cumprod[t - 1]\n",
        "            beta_t = 1 - alpha_t\n",
        "            print('vals', alpha_t, beta_t)\n",
        "            sigma_t = eta * torch.sqrt(beta_t)\n",
        "\n",
        "            print('val of sigma_t', sigma_t)\n",
        "            # Compute the next step sample\n",
        "            pred_x0 = (x - torch.sqrt(1 - (alpha_t + eps)) * pred_noise) / torch.sqrt(alpha_t+eps)\n",
        "            noise = sigma_t * torch.randn_like(x) if t > 1 else torch.zeros_like(x)\n",
        "\n",
        "            print('pred x0', pred_x0)\n",
        "            print('noise', noise)\n",
        "            # Sample the next step\n",
        "            x = torch.sqrt(alpha_t_prev) * pred_x0 + torch.sqrt(1 - alpha_t_prev) * noise\n",
        "\n",
        "            show_image(x[0], title=f\"After denoising step {t}\")\n",
        "\n",
        "            del t_tensor, pred_noise\n",
        "            torch.cuda.empty_cache()\n",
        "    return x"
      ]
    },
    {
      "cell_type": "code",
      "execution_count": null,
      "id": "e71b539d",
      "metadata": {
        "id": "e71b539d"
      },
      "outputs": [],
      "source": [
        "# Example usage:\n",
        "n_samples = 1\n",
        "timesteps = 500  # Total timesteps used in the model\n",
        "beta_start = 1e-4\n",
        "beta_end = 0.02\n",
        "alphas_cumprod = torch.cumprod(\n",
        "    torch.linspace(beta_start, beta_end, timesteps), dim=0\n",
        ")  # Adjust based on your noise schedule"
      ]
    },
    {
      "cell_type": "code",
      "execution_count": null,
      "id": "18f48bda",
      "metadata": {
        "id": "18f48bda"
      },
      "outputs": [],
      "source": [
        "samples = ddim_sample(nn_model, n_samples, timesteps, alphas_cumprod, eta=0.5)"
      ]
    },
    {
      "cell_type": "code",
      "execution_count": null,
      "id": "9cf369a8",
      "metadata": {
        "id": "9cf369a8"
      },
      "outputs": [],
      "source": []
    },
    {
      "cell_type": "code",
      "execution_count": null,
      "id": "39129751",
      "metadata": {
        "id": "39129751"
      },
      "outputs": [],
      "source": [
        "def pndm_sample(nn_model, n_samples, timesteps, alphas_cumprod, device=\"cuda\"):\n",
        "    \"\"\"\n",
        "    PNDM Sampling for a diffusion model.\n",
        "\n",
        "    Args:\n",
        "        nn_model: Trained neural network model.\n",
        "        n_samples: Number of samples to generate.\n",
        "        timesteps: Total diffusion steps.\n",
        "        alphas_cumprod: Cumulative product of alphas (beta schedule).\n",
        "        device: Device to run sampling on, 'cuda' or 'cpu'.\n",
        "\n",
        "    Returns:\n",
        "        A batch of generated samples.\n",
        "    \"\"\"\n",
        "    # Start with pure noise\n",
        "    x = torch.randn(\n",
        "        (n_samples, 3, 128, 128), device=device\n",
        "    )  # Adjust image shape as per your dataset\n",
        "\n",
        "    # Define step size (can be adjusted for quality vs speed)\n",
        "    step_size = timesteps // 4  # Skip 4 steps at a time\n",
        "\n",
        "    for i, t in enumerate(reversed(range(1, timesteps, step_size))):\n",
        "        t_tensor = torch.full((n_samples,), t, device=device, dtype=torch.long)\n",
        "\n",
        "        # Predict noise using the neural network\n",
        "        pred_noise = nn_model(x, t_tensor / timesteps)\n",
        "\n",
        "        # Compute the cumulative product of alpha_t and the previous one\n",
        "        alpha_t = alphas_cumprod[t]\n",
        "        alpha_t_prev = (\n",
        "            alphas_cumprod[t - step_size] if t - step_size >= 0 else alphas_cumprod[0]\n",
        "        )\n",
        "\n",
        "        # Calculate sigma for noise injection\n",
        "        sigma_t = torch.sqrt(1 - alpha_t)\n",
        "\n",
        "        # Reconstruct the next x using noise prediction\n",
        "        pred_x0 = (x - sigma_t * pred_noise) / torch.sqrt(alpha_t)\n",
        "\n",
        "        # Use the difference between alpha_t and alpha_t_prev to correct x\n",
        "        x = (\n",
        "            torch.sqrt(alpha_t_prev) * pred_x0\n",
        "            + torch.sqrt(1 - alpha_t_prev) * pred_noise\n",
        "        )\n",
        "\n",
        "        show_image((samples[0]), title=f\"After denoising step {i}\")\n",
        "\n",
        "    return x"
      ]
    },
    {
      "cell_type": "code",
      "execution_count": null,
      "id": "775ac7a2",
      "metadata": {
        "id": "775ac7a2"
      },
      "outputs": [],
      "source": [
        "# Example usage:\n",
        "samples_pndm = pndm_sample(nn_model, n_samples, timesteps, alphas_cumprod)"
      ]
    }
  ],
  "metadata": {
    "jupytext": {
      "cell_metadata_filter": "-all",
      "main_language": "python",
      "notebook_metadata_filter": "-all"
    },
    "colab": {
      "provenance": []
    },
    "language_info": {
      "name": "python"
    },
    "kernelspec": {
      "name": "python3",
      "display_name": "Python 3"
    }
  },
  "nbformat": 4,
  "nbformat_minor": 5
}